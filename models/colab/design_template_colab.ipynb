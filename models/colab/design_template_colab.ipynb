{
  "cells": [
    {
      "cell_type": "markdown",
      "metadata": {
        "id": "view-in-github",
        "colab_type": "text"
      },
      "source": [
        "<a href=\"https://colab.research.google.com/github/dongdong5212a/cartesian_controllers/blob/master/models/colab/design_template_colab.ipynb\" target=\"_parent\"><img src=\"https://colab.research.google.com/assets/colab-badge.svg\" alt=\"Open In Colab\"/></a>"
      ]
    },
    {
      "cell_type": "markdown",
      "metadata": {
        "id": "ac9_FmrCOwQL"
      },
      "source": [
        "# FullControl design template\n",
        "\n",
        "*<<< check out demo models [here](https://github.com/FullControlXYZ/fullcontrol/tree/master/models/README.md) >>>*\n",
        "  \n",
        "press ctrl+F9 to run all cells in this notebook, or press shift+enter to run each cell sequentially\n",
        "\n",
        "if you change one of the code cells, make sure you run it and all subsequent cells again (in order)\n",
        "\n",
        "*this document is a jupyter notebook - if they're new to you, check out how they work: [link](https://www.google.com/search?q=ipynb+tutorial), [link](https://jupyter.org/try-jupyter/retro/notebooks/?path=notebooks/Intro.ipynb), [link](https://colab.research.google.com/)*\n",
        "### be patient :)\n",
        "\n",
        "the next code cell may take a while because running it causes several things to happen:\n",
        "- connect to a google colab server -> download the fullcontrol code -> install the fullcontrol code\n",
        "\n",
        "check out [other tutorials](https://github.com/FullControlXYZ/fullcontrol/blob/master/tutorials/README.md) to understand the python code for the FullControl design"
      ]
    },
    {
      "cell_type": "code",
      "execution_count": 7,
      "metadata": {
        "id": "57XXnogSOvDx",
        "colab": {
          "base_uri": "https://localhost:8080/"
        },
        "outputId": "389f271f-caaf-4071-e054-902c3bd3a31f"
      },
      "outputs": [
        {
          "output_type": "stream",
          "name": "stdout",
          "text": [
            "  Installing build dependencies ... \u001b[?25l\u001b[?25hdone\n",
            "  Getting requirements to build wheel ... \u001b[?25l\u001b[?25hdone\n",
            "  Preparing metadata (pyproject.toml) ... \u001b[?25l\u001b[?25hdone\n"
          ]
        }
      ],
      "source": [
        "if 'google.colab' in str(get_ipython()):\n",
        "  !pip install git+https://github.com/FullControlXYZ/fullcontrol --quiet\n",
        "import fullcontrol as fc\n",
        "from google.colab import files"
      ]
    },
    {
      "cell_type": "code",
      "execution_count": 8,
      "metadata": {
        "id": "zdZxdALv-2g8"
      },
      "outputs": [],
      "source": [
        "# printer/gcode parameters\n",
        "\n",
        "design_name = 'my_design'\n",
        "nozzle_temp = 210\n",
        "bed_temp = 40\n",
        "print_speed = 1000\n",
        "fan_percent = 100\n",
        "printer_name='prusa_i3' # generic / ultimaker2plus / prusa_i3 / ender_3 / cr_10 / bambulab_x1 / toolchanger_T0"
      ]
    },
    {
      "cell_type": "code",
      "execution_count": 44,
      "metadata": {
        "id": "DeWKjlzbPC0u"
      },
      "outputs": [],
      "source": [
        "# design parameters\n",
        "\n",
        "EW = 0.8 # extrusion width\n",
        "EH = 0.3 # extrusion height (and layer height)\n",
        "initial_z = EH*0.6 # initial nozzle position is set to 0.6x the extrusion height to get a bit of 'squish' for good bed adhesion\n",
        "layers = 4"
      ]
    },
    {
      "cell_type": "code",
      "source": [
        "\t\tsteps = []\n",
        "\n",
        "\n",
        "\t\tamplitude = 19\n",
        "\t\tline_spacing = 1\n",
        "\t\tperiods = 10\n",
        "\t\textra_half_period = False\n",
        "\t\textra_end_line = False\n",
        "\n",
        "\t\t# 初始化第一层的起始点和方向\n",
        "\t\tstart_points = [fc.Point(x=40, y=40, z=0)]\n",
        "\t\tdirections = [fc.Vector(x=1, y=0)]\n",
        "\n",
        "\t\t# 生成后续层的起始点和方向，确保每层相对于前一层有适当的位移和方向变化\n",
        "\t\tfor layer in range(1, layers):\n",
        "\t\t    prev_start = start_points[-1]\n",
        "\t\t    if layer % 4 == 1:\n",
        "\t\t        new_start = fc.Point(x=prev_start.x + 19, y=prev_start.y, z=layer)\n",
        "\t\t        new_direction = fc.Vector(x=0, y=1)\n",
        "\t\t    elif layer % 4 == 2:\n",
        "\t\t        new_start = fc.Point(x=prev_start.x, y=prev_start.y + 19, z=layer)\n",
        "\t\t        new_direction = fc.Vector(x=-1, y=0)\n",
        "\t\t    elif layer % 4 == 3:\n",
        "\t\t        new_start = fc.Point(x=prev_start.x - 19, y=prev_start.y, z=layer)\n",
        "\t\t        new_direction = fc.Vector(x=0, y=-1)\n",
        "\t\t    else:\n",
        "\t\t        new_start = fc.Point(x=prev_start.x, y=prev_start.y - 19, z=layer)\n",
        "\t\t        new_direction = fc.Vector(x=1, y=0)\n",
        "\n",
        "\t\t    start_points.append(new_start)\n",
        "\t\t    directions.append(new_direction)\n",
        "\n",
        "\t\t# 生成每一层的方波路径\n",
        "\t\tfor layer in range(layers):\n",
        "\t\t    start_point = start_points[layer]\n",
        "\t\t    direction = directions[layer]\n",
        "\n",
        "\t\t    layer_steps = fc.squarewaveXY(start_point, direction, amplitude, line_spacing, periods, extra_half_period, extra_end_line)\n",
        "\t\t    #layer_steps.append(fc.PlotAnnotation(point=start_point, label=f\"start of wave layer {layer + 1}\"))\n",
        "\t\t    steps.extend(layer_steps)\n",
        "\n",
        "\t\t# 将所有层次的路径进行变换和绘制\n",
        "\t\tfc.transform(steps, 'plot', fc.PlotControls(style='line', zoom=0.7))\n"
      ],
      "metadata": {
        "colab": {
          "base_uri": "https://localhost:8080/",
          "height": 517
        },
        "id": "Ss8nxF_AIAuK",
        "outputId": "6220765e-83b9-42fa-cd93-03ead5bac4ad"
      },
      "execution_count": 15,
      "outputs": [
        {
          "output_type": "display_data",
          "data": {
            "text/html": [
              "<html>\n",
              "<head><meta charset=\"utf-8\" /></head>\n",
              "<body>\n",
              "    <div>            <script src=\"https://cdnjs.cloudflare.com/ajax/libs/mathjax/2.7.5/MathJax.js?config=TeX-AMS-MML_SVG\"></script><script type=\"text/javascript\">if (window.MathJax && window.MathJax.Hub && window.MathJax.Hub.Config) {window.MathJax.Hub.Config({SVG: {font: \"STIX-Web\"}});}</script>                <script type=\"text/javascript\">window.PlotlyConfig = {MathJaxConfig: 'local'};</script>\n",
              "        <script charset=\"utf-8\" src=\"https://cdn.plot.ly/plotly-2.35.2.min.js\"></script>                <div id=\"d5464a5c-a8f2-4c19-9a11-cf980d7d6d2e\" class=\"plotly-graph-div\" style=\"height:500px; width:800px;\"></div>            <script type=\"text/javascript\">                                    window.PLOTLYENV=window.PLOTLYENV || {};                                    if (document.getElementById(\"d5464a5c-a8f2-4c19-9a11-cf980d7d6d2e\")) {                    Plotly.newPlot(                        \"d5464a5c-a8f2-4c19-9a11-cf980d7d6d2e\",                        [{\"line\":{\"color\":[\"rgb(0.00, 0.00, 255.00)\",\"rgb(0.00, 0.00, 255.00)\",\"rgb(0.00, 0.00, 255.00)\",\"rgb(0.00, 0.00, 255.00)\",\"rgb(0.00, 0.00, 255.00)\",\"rgb(0.00, 0.00, 255.00)\",\"rgb(0.00, 0.00, 255.00)\",\"rgb(0.00, 0.00, 255.00)\",\"rgb(0.00, 0.00, 255.00)\",\"rgb(0.00, 0.00, 255.00)\",\"rgb(0.00, 0.00, 255.00)\",\"rgb(0.00, 0.00, 255.00)\",\"rgb(0.00, 0.00, 255.00)\",\"rgb(0.00, 0.00, 255.00)\",\"rgb(0.00, 0.00, 255.00)\",\"rgb(0.00, 0.00, 255.00)\",\"rgb(0.00, 0.00, 255.00)\",\"rgb(0.00, 0.00, 255.00)\",\"rgb(0.00, 0.00, 255.00)\",\"rgb(0.00, 0.00, 255.00)\",\"rgb(0.00, 0.00, 255.00)\",\"rgb(0.00, 0.00, 255.00)\",\"rgb(0.00, 0.00, 255.00)\",\"rgb(0.00, 0.00, 255.00)\",\"rgb(0.00, 0.00, 255.00)\",\"rgb(0.00, 0.00, 255.00)\",\"rgb(0.00, 0.00, 255.00)\",\"rgb(0.00, 0.00, 255.00)\",\"rgb(0.00, 0.00, 255.00)\",\"rgb(0.00, 0.00, 255.00)\",\"rgb(0.00, 0.00, 255.00)\",\"rgb(0.00, 0.00, 255.00)\",\"rgb(0.00, 0.00, 255.00)\",\"rgb(0.00, 0.00, 255.00)\",\"rgb(0.00, 0.00, 255.00)\",\"rgb(0.00, 0.00, 255.00)\",\"rgb(0.00, 0.00, 255.00)\",\"rgb(0.00, 0.00, 255.00)\",\"rgb(0.00, 0.00, 255.00)\",\"rgb(0.00, 0.00, 255.00)\",\"rgb(0.00, 84.92, 255.00)\",\"rgb(0.00, 84.92, 255.00)\",\"rgb(0.00, 84.92, 255.00)\",\"rgb(0.00, 84.92, 255.00)\",\"rgb(0.00, 84.92, 255.00)\",\"rgb(0.00, 84.92, 255.00)\",\"rgb(0.00, 84.92, 255.00)\",\"rgb(0.00, 84.92, 255.00)\",\"rgb(0.00, 84.92, 255.00)\",\"rgb(0.00, 84.92, 255.00)\",\"rgb(0.00, 84.92, 255.00)\",\"rgb(0.00, 84.92, 255.00)\",\"rgb(0.00, 84.92, 255.00)\",\"rgb(0.00, 84.92, 255.00)\",\"rgb(0.00, 84.92, 255.00)\",\"rgb(0.00, 84.92, 255.00)\",\"rgb(0.00, 84.92, 255.00)\",\"rgb(0.00, 84.92, 255.00)\",\"rgb(0.00, 84.92, 255.00)\",\"rgb(0.00, 84.92, 255.00)\",\"rgb(0.00, 84.92, 255.00)\",\"rgb(0.00, 84.92, 255.00)\",\"rgb(0.00, 84.92, 255.00)\",\"rgb(0.00, 84.92, 255.00)\",\"rgb(0.00, 84.92, 255.00)\",\"rgb(0.00, 84.92, 255.00)\",\"rgb(0.00, 84.92, 255.00)\",\"rgb(0.00, 84.92, 255.00)\",\"rgb(0.00, 84.92, 255.00)\",\"rgb(0.00, 84.92, 255.00)\",\"rgb(0.00, 84.92, 255.00)\",\"rgb(0.00, 84.92, 255.00)\",\"rgb(0.00, 84.92, 255.00)\",\"rgb(0.00, 84.92, 255.00)\",\"rgb(0.00, 84.92, 255.00)\",\"rgb(0.00, 84.92, 255.00)\",\"rgb(0.00, 84.92, 255.00)\",\"rgb(0.00, 84.92, 255.00)\",\"rgb(0.00, 84.92, 255.00)\",\"rgb(0.00, 84.92, 255.00)\",\"rgb(0.00, 170.09, 255.00)\",\"rgb(0.00, 170.09, 255.00)\",\"rgb(0.00, 170.09, 255.00)\",\"rgb(0.00, 170.09, 255.00)\",\"rgb(0.00, 170.09, 255.00)\",\"rgb(0.00, 170.09, 255.00)\",\"rgb(0.00, 170.09, 255.00)\",\"rgb(0.00, 170.09, 255.00)\",\"rgb(0.00, 170.09, 255.00)\",\"rgb(0.00, 170.09, 255.00)\",\"rgb(0.00, 170.09, 255.00)\",\"rgb(0.00, 170.09, 255.00)\",\"rgb(0.00, 170.09, 255.00)\",\"rgb(0.00, 170.09, 255.00)\",\"rgb(0.00, 170.09, 255.00)\",\"rgb(0.00, 170.09, 255.00)\",\"rgb(0.00, 170.09, 255.00)\",\"rgb(0.00, 170.09, 255.00)\",\"rgb(0.00, 170.09, 255.00)\",\"rgb(0.00, 170.09, 255.00)\",\"rgb(0.00, 170.09, 255.00)\",\"rgb(0.00, 170.09, 255.00)\",\"rgb(0.00, 170.09, 255.00)\",\"rgb(0.00, 170.09, 255.00)\",\"rgb(0.00, 170.09, 255.00)\",\"rgb(0.00, 170.09, 255.00)\",\"rgb(0.00, 170.09, 255.00)\",\"rgb(0.00, 170.09, 255.00)\",\"rgb(0.00, 170.09, 255.00)\",\"rgb(0.00, 170.09, 255.00)\",\"rgb(0.00, 170.09, 255.00)\",\"rgb(0.00, 170.09, 255.00)\",\"rgb(0.00, 170.09, 255.00)\",\"rgb(0.00, 170.09, 255.00)\",\"rgb(0.00, 170.09, 255.00)\",\"rgb(0.00, 170.09, 255.00)\",\"rgb(0.00, 170.09, 255.00)\",\"rgb(0.00, 170.09, 255.00)\",\"rgb(0.00, 170.09, 255.00)\",\"rgb(0.00, 170.09, 255.00)\",\"rgb(0.00, 255.00, 255.00)\",\"rgb(0.00, 255.00, 255.00)\",\"rgb(0.00, 255.00, 255.00)\",\"rgb(0.00, 255.00, 255.00)\",\"rgb(0.00, 255.00, 255.00)\",\"rgb(0.00, 255.00, 255.00)\",\"rgb(0.00, 255.00, 255.00)\",\"rgb(0.00, 255.00, 255.00)\",\"rgb(0.00, 255.00, 255.00)\",\"rgb(0.00, 255.00, 255.00)\",\"rgb(0.00, 255.00, 255.00)\",\"rgb(0.00, 255.00, 255.00)\",\"rgb(0.00, 255.00, 255.00)\",\"rgb(0.00, 255.00, 255.00)\",\"rgb(0.00, 255.00, 255.00)\",\"rgb(0.00, 255.00, 255.00)\",\"rgb(0.00, 255.00, 255.00)\",\"rgb(0.00, 255.00, 255.00)\",\"rgb(0.00, 255.00, 255.00)\",\"rgb(0.00, 255.00, 255.00)\",\"rgb(0.00, 255.00, 255.00)\",\"rgb(0.00, 255.00, 255.00)\",\"rgb(0.00, 255.00, 255.00)\",\"rgb(0.00, 255.00, 255.00)\",\"rgb(0.00, 255.00, 255.00)\",\"rgb(0.00, 255.00, 255.00)\",\"rgb(0.00, 255.00, 255.00)\",\"rgb(0.00, 255.00, 255.00)\",\"rgb(0.00, 255.00, 255.00)\",\"rgb(0.00, 255.00, 255.00)\",\"rgb(0.00, 255.00, 255.00)\",\"rgb(0.00, 255.00, 255.00)\",\"rgb(0.00, 255.00, 255.00)\",\"rgb(0.00, 255.00, 255.00)\",\"rgb(0.00, 255.00, 255.00)\",\"rgb(0.00, 255.00, 255.00)\",\"rgb(0.00, 255.00, 255.00)\",\"rgb(0.00, 255.00, 255.00)\",\"rgb(0.00, 255.00, 255.00)\",\"rgb(0.00, 255.00, 255.00)\"],\"width\":4},\"mode\":\"lines\",\"showlegend\":false,\"x\":[40.0,40.0,41.0,41.0,42.0,42.0,43.0,43.0,44.0,44.0,45.0,45.0,46.0,46.0,47.0,47.0,48.0,48.0,49.0,49.0,50.0,50.0,51.0,51.0,52.0,52.0,53.0,53.0,54.0,54.0,55.0,55.0,56.0,56.0,57.0,57.0,58.0,58.0,59.0,59.0,59.0,40.0,40.0,59.0,59.0,40.0,40.0,59.0,59.0,40.0,40.0,59.0,59.0,40.0,40.0,59.0,59.0,40.0,40.0,59.0,59.0,40.0,40.0,59.0,59.0,40.0,40.0,59.0,59.0,40.0,40.0,59.0,59.0,40.0,40.0,59.0,59.0,40.0,40.0,59.0,59.0,59.0,58.0,58.0,57.0,57.0,56.0,56.0,55.0,55.0,54.0,54.0,53.0,53.0,52.0,52.0,51.0,51.0,50.0,50.0,49.0,49.0,48.0,48.0,47.0,47.0,46.0,46.0,45.0,45.0,44.0,44.0,43.0,43.0,42.0,42.0,41.0,41.0,40.0,40.0,40.0,59.0,59.0,40.0,40.0,59.0,59.0,40.0,40.0,59.0,59.0,40.0,40.0,59.0,59.0,40.0,40.0,59.0,59.0,40.0,40.0,59.0,59.0,40.0,40.0,59.0,59.0,40.0,40.0,59.0,59.0,40.0,40.0,59.0,59.0,40.0,40.0,59.0,59.0,40.0],\"y\":[40.0,59.0,59.0,40.0,40.0,59.0,59.0,40.0,40.0,59.0,59.0,40.0,40.0,59.0,59.0,40.0,40.0,59.0,59.0,40.0,40.0,59.0,59.0,40.0,40.0,59.0,59.0,40.0,40.0,59.0,59.0,40.0,40.0,59.0,59.0,40.0,40.0,59.0,59.0,40.0,40.0,40.0,41.0,41.0,42.0,42.0,43.0,43.0,44.0,44.0,45.0,45.0,46.0,46.0,47.0,47.0,48.0,48.0,49.0,49.0,50.0,50.0,51.0,51.0,52.0,52.0,53.0,53.0,54.0,54.0,55.0,55.0,56.0,56.0,57.0,57.0,58.0,58.0,59.0,59.0,59.0,40.0,40.0,59.0,59.0,40.0,40.0,59.0,59.0,40.0,40.0,59.0,59.0,40.0,40.0,59.0,59.0,40.0,40.0,59.0,59.0,40.0,40.0,59.0,59.0,40.0,40.0,59.0,59.0,40.0,40.0,59.0,59.0,40.0,40.0,59.0,59.0,40.0,40.0,59.0,59.0,59.0,58.0,58.0,57.0,57.0,56.0,56.0,55.0,55.0,54.0,54.0,53.0,53.0,52.0,52.0,51.0,51.0,50.0,50.0,49.0,49.0,48.0,48.0,47.0,47.0,46.0,46.0,45.0,45.0,44.0,44.0,43.0,43.0,42.0,42.0,41.0,41.0,40.0,40.0],\"z\":[0.0,0.0,0.0,0.0,0.0,0.0,0.0,0.0,0.0,0.0,0.0,0.0,0.0,0.0,0.0,0.0,0.0,0.0,0.0,0.0,0.0,0.0,0.0,0.0,0.0,0.0,0.0,0.0,0.0,0.0,0.0,0.0,0.0,0.0,0.0,0.0,0.0,0.0,0.0,0.0,1.0,1.0,1.0,1.0,1.0,1.0,1.0,1.0,1.0,1.0,1.0,1.0,1.0,1.0,1.0,1.0,1.0,1.0,1.0,1.0,1.0,1.0,1.0,1.0,1.0,1.0,1.0,1.0,1.0,1.0,1.0,1.0,1.0,1.0,1.0,1.0,1.0,1.0,1.0,1.0,2.0,2.0,2.0,2.0,2.0,2.0,2.0,2.0,2.0,2.0,2.0,2.0,2.0,2.0,2.0,2.0,2.0,2.0,2.0,2.0,2.0,2.0,2.0,2.0,2.0,2.0,2.0,2.0,2.0,2.0,2.0,2.0,2.0,2.0,2.0,2.0,2.0,2.0,2.0,2.0,3.0,3.0,3.0,3.0,3.0,3.0,3.0,3.0,3.0,3.0,3.0,3.0,3.0,3.0,3.0,3.0,3.0,3.0,3.0,3.0,3.0,3.0,3.0,3.0,3.0,3.0,3.0,3.0,3.0,3.0,3.0,3.0,3.0,3.0,3.0,3.0,3.0,3.0,3.0,3.0],\"type\":\"scatter3d\"},{\"marker\":{\"color\":\"red\",\"size\":2},\"mode\":\"markers\",\"showlegend\":false,\"x\":[],\"y\":[],\"z\":[],\"type\":\"scatter3d\"}],                        {\"template\":{\"data\":{\"barpolar\":[{\"marker\":{\"line\":{\"color\":\"rgb(17,17,17)\",\"width\":0.5},\"pattern\":{\"fillmode\":\"overlay\",\"size\":10,\"solidity\":0.2}},\"type\":\"barpolar\"}],\"bar\":[{\"error_x\":{\"color\":\"#f2f5fa\"},\"error_y\":{\"color\":\"#f2f5fa\"},\"marker\":{\"line\":{\"color\":\"rgb(17,17,17)\",\"width\":0.5},\"pattern\":{\"fillmode\":\"overlay\",\"size\":10,\"solidity\":0.2}},\"type\":\"bar\"}],\"carpet\":[{\"aaxis\":{\"endlinecolor\":\"#A2B1C6\",\"gridcolor\":\"#506784\",\"linecolor\":\"#506784\",\"minorgridcolor\":\"#506784\",\"startlinecolor\":\"#A2B1C6\"},\"baxis\":{\"endlinecolor\":\"#A2B1C6\",\"gridcolor\":\"#506784\",\"linecolor\":\"#506784\",\"minorgridcolor\":\"#506784\",\"startlinecolor\":\"#A2B1C6\"},\"type\":\"carpet\"}],\"choropleth\":[{\"colorbar\":{\"outlinewidth\":0,\"ticks\":\"\"},\"type\":\"choropleth\"}],\"contourcarpet\":[{\"colorbar\":{\"outlinewidth\":0,\"ticks\":\"\"},\"type\":\"contourcarpet\"}],\"contour\":[{\"colorbar\":{\"outlinewidth\":0,\"ticks\":\"\"},\"colorscale\":[[0.0,\"#0d0887\"],[0.1111111111111111,\"#46039f\"],[0.2222222222222222,\"#7201a8\"],[0.3333333333333333,\"#9c179e\"],[0.4444444444444444,\"#bd3786\"],[0.5555555555555556,\"#d8576b\"],[0.6666666666666666,\"#ed7953\"],[0.7777777777777778,\"#fb9f3a\"],[0.8888888888888888,\"#fdca26\"],[1.0,\"#f0f921\"]],\"type\":\"contour\"}],\"heatmapgl\":[{\"colorbar\":{\"outlinewidth\":0,\"ticks\":\"\"},\"colorscale\":[[0.0,\"#0d0887\"],[0.1111111111111111,\"#46039f\"],[0.2222222222222222,\"#7201a8\"],[0.3333333333333333,\"#9c179e\"],[0.4444444444444444,\"#bd3786\"],[0.5555555555555556,\"#d8576b\"],[0.6666666666666666,\"#ed7953\"],[0.7777777777777778,\"#fb9f3a\"],[0.8888888888888888,\"#fdca26\"],[1.0,\"#f0f921\"]],\"type\":\"heatmapgl\"}],\"heatmap\":[{\"colorbar\":{\"outlinewidth\":0,\"ticks\":\"\"},\"colorscale\":[[0.0,\"#0d0887\"],[0.1111111111111111,\"#46039f\"],[0.2222222222222222,\"#7201a8\"],[0.3333333333333333,\"#9c179e\"],[0.4444444444444444,\"#bd3786\"],[0.5555555555555556,\"#d8576b\"],[0.6666666666666666,\"#ed7953\"],[0.7777777777777778,\"#fb9f3a\"],[0.8888888888888888,\"#fdca26\"],[1.0,\"#f0f921\"]],\"type\":\"heatmap\"}],\"histogram2dcontour\":[{\"colorbar\":{\"outlinewidth\":0,\"ticks\":\"\"},\"colorscale\":[[0.0,\"#0d0887\"],[0.1111111111111111,\"#46039f\"],[0.2222222222222222,\"#7201a8\"],[0.3333333333333333,\"#9c179e\"],[0.4444444444444444,\"#bd3786\"],[0.5555555555555556,\"#d8576b\"],[0.6666666666666666,\"#ed7953\"],[0.7777777777777778,\"#fb9f3a\"],[0.8888888888888888,\"#fdca26\"],[1.0,\"#f0f921\"]],\"type\":\"histogram2dcontour\"}],\"histogram2d\":[{\"colorbar\":{\"outlinewidth\":0,\"ticks\":\"\"},\"colorscale\":[[0.0,\"#0d0887\"],[0.1111111111111111,\"#46039f\"],[0.2222222222222222,\"#7201a8\"],[0.3333333333333333,\"#9c179e\"],[0.4444444444444444,\"#bd3786\"],[0.5555555555555556,\"#d8576b\"],[0.6666666666666666,\"#ed7953\"],[0.7777777777777778,\"#fb9f3a\"],[0.8888888888888888,\"#fdca26\"],[1.0,\"#f0f921\"]],\"type\":\"histogram2d\"}],\"histogram\":[{\"marker\":{\"pattern\":{\"fillmode\":\"overlay\",\"size\":10,\"solidity\":0.2}},\"type\":\"histogram\"}],\"mesh3d\":[{\"colorbar\":{\"outlinewidth\":0,\"ticks\":\"\"},\"type\":\"mesh3d\"}],\"parcoords\":[{\"line\":{\"colorbar\":{\"outlinewidth\":0,\"ticks\":\"\"}},\"type\":\"parcoords\"}],\"pie\":[{\"automargin\":true,\"type\":\"pie\"}],\"scatter3d\":[{\"line\":{\"colorbar\":{\"outlinewidth\":0,\"ticks\":\"\"}},\"marker\":{\"colorbar\":{\"outlinewidth\":0,\"ticks\":\"\"}},\"type\":\"scatter3d\"}],\"scattercarpet\":[{\"marker\":{\"colorbar\":{\"outlinewidth\":0,\"ticks\":\"\"}},\"type\":\"scattercarpet\"}],\"scattergeo\":[{\"marker\":{\"colorbar\":{\"outlinewidth\":0,\"ticks\":\"\"}},\"type\":\"scattergeo\"}],\"scattergl\":[{\"marker\":{\"line\":{\"color\":\"#283442\"}},\"type\":\"scattergl\"}],\"scattermapbox\":[{\"marker\":{\"colorbar\":{\"outlinewidth\":0,\"ticks\":\"\"}},\"type\":\"scattermapbox\"}],\"scatterpolargl\":[{\"marker\":{\"colorbar\":{\"outlinewidth\":0,\"ticks\":\"\"}},\"type\":\"scatterpolargl\"}],\"scatterpolar\":[{\"marker\":{\"colorbar\":{\"outlinewidth\":0,\"ticks\":\"\"}},\"type\":\"scatterpolar\"}],\"scatter\":[{\"marker\":{\"line\":{\"color\":\"#283442\"}},\"type\":\"scatter\"}],\"scatterternary\":[{\"marker\":{\"colorbar\":{\"outlinewidth\":0,\"ticks\":\"\"}},\"type\":\"scatterternary\"}],\"surface\":[{\"colorbar\":{\"outlinewidth\":0,\"ticks\":\"\"},\"colorscale\":[[0.0,\"#0d0887\"],[0.1111111111111111,\"#46039f\"],[0.2222222222222222,\"#7201a8\"],[0.3333333333333333,\"#9c179e\"],[0.4444444444444444,\"#bd3786\"],[0.5555555555555556,\"#d8576b\"],[0.6666666666666666,\"#ed7953\"],[0.7777777777777778,\"#fb9f3a\"],[0.8888888888888888,\"#fdca26\"],[1.0,\"#f0f921\"]],\"type\":\"surface\"}],\"table\":[{\"cells\":{\"fill\":{\"color\":\"#506784\"},\"line\":{\"color\":\"rgb(17,17,17)\"}},\"header\":{\"fill\":{\"color\":\"#2a3f5f\"},\"line\":{\"color\":\"rgb(17,17,17)\"}},\"type\":\"table\"}]},\"layout\":{\"annotationdefaults\":{\"arrowcolor\":\"#f2f5fa\",\"arrowhead\":0,\"arrowwidth\":1},\"autotypenumbers\":\"strict\",\"coloraxis\":{\"colorbar\":{\"outlinewidth\":0,\"ticks\":\"\"}},\"colorscale\":{\"diverging\":[[0,\"#8e0152\"],[0.1,\"#c51b7d\"],[0.2,\"#de77ae\"],[0.3,\"#f1b6da\"],[0.4,\"#fde0ef\"],[0.5,\"#f7f7f7\"],[0.6,\"#e6f5d0\"],[0.7,\"#b8e186\"],[0.8,\"#7fbc41\"],[0.9,\"#4d9221\"],[1,\"#276419\"]],\"sequential\":[[0.0,\"#0d0887\"],[0.1111111111111111,\"#46039f\"],[0.2222222222222222,\"#7201a8\"],[0.3333333333333333,\"#9c179e\"],[0.4444444444444444,\"#bd3786\"],[0.5555555555555556,\"#d8576b\"],[0.6666666666666666,\"#ed7953\"],[0.7777777777777778,\"#fb9f3a\"],[0.8888888888888888,\"#fdca26\"],[1.0,\"#f0f921\"]],\"sequentialminus\":[[0.0,\"#0d0887\"],[0.1111111111111111,\"#46039f\"],[0.2222222222222222,\"#7201a8\"],[0.3333333333333333,\"#9c179e\"],[0.4444444444444444,\"#bd3786\"],[0.5555555555555556,\"#d8576b\"],[0.6666666666666666,\"#ed7953\"],[0.7777777777777778,\"#fb9f3a\"],[0.8888888888888888,\"#fdca26\"],[1.0,\"#f0f921\"]]},\"colorway\":[\"#636efa\",\"#EF553B\",\"#00cc96\",\"#ab63fa\",\"#FFA15A\",\"#19d3f3\",\"#FF6692\",\"#B6E880\",\"#FF97FF\",\"#FECB52\"],\"font\":{\"color\":\"#f2f5fa\"},\"geo\":{\"bgcolor\":\"rgb(17,17,17)\",\"lakecolor\":\"rgb(17,17,17)\",\"landcolor\":\"rgb(17,17,17)\",\"showlakes\":true,\"showland\":true,\"subunitcolor\":\"#506784\"},\"hoverlabel\":{\"align\":\"left\"},\"hovermode\":\"closest\",\"mapbox\":{\"style\":\"dark\"},\"paper_bgcolor\":\"rgb(17,17,17)\",\"plot_bgcolor\":\"rgb(17,17,17)\",\"polar\":{\"angularaxis\":{\"gridcolor\":\"#506784\",\"linecolor\":\"#506784\",\"ticks\":\"\"},\"bgcolor\":\"rgb(17,17,17)\",\"radialaxis\":{\"gridcolor\":\"#506784\",\"linecolor\":\"#506784\",\"ticks\":\"\"}},\"scene\":{\"xaxis\":{\"backgroundcolor\":\"rgb(17,17,17)\",\"gridcolor\":\"#506784\",\"gridwidth\":2,\"linecolor\":\"#506784\",\"showbackground\":true,\"ticks\":\"\",\"zerolinecolor\":\"#C8D4E3\"},\"yaxis\":{\"backgroundcolor\":\"rgb(17,17,17)\",\"gridcolor\":\"#506784\",\"gridwidth\":2,\"linecolor\":\"#506784\",\"showbackground\":true,\"ticks\":\"\",\"zerolinecolor\":\"#C8D4E3\"},\"zaxis\":{\"backgroundcolor\":\"rgb(17,17,17)\",\"gridcolor\":\"#506784\",\"gridwidth\":2,\"linecolor\":\"#506784\",\"showbackground\":true,\"ticks\":\"\",\"zerolinecolor\":\"#C8D4E3\"}},\"shapedefaults\":{\"line\":{\"color\":\"#f2f5fa\"}},\"sliderdefaults\":{\"bgcolor\":\"#C8D4E3\",\"bordercolor\":\"rgb(17,17,17)\",\"borderwidth\":1,\"tickwidth\":0},\"ternary\":{\"aaxis\":{\"gridcolor\":\"#506784\",\"linecolor\":\"#506784\",\"ticks\":\"\"},\"baxis\":{\"gridcolor\":\"#506784\",\"linecolor\":\"#506784\",\"ticks\":\"\"},\"bgcolor\":\"rgb(17,17,17)\",\"caxis\":{\"gridcolor\":\"#506784\",\"linecolor\":\"#506784\",\"ticks\":\"\"}},\"title\":{\"x\":0.05},\"updatemenudefaults\":{\"bgcolor\":\"#506784\",\"borderwidth\":0},\"xaxis\":{\"automargin\":true,\"gridcolor\":\"#283442\",\"linecolor\":\"#506784\",\"ticks\":\"\",\"title\":{\"standoff\":15},\"zerolinecolor\":\"#283442\",\"zerolinewidth\":2},\"yaxis\":{\"automargin\":true,\"gridcolor\":\"#283442\",\"linecolor\":\"#506784\",\"ticks\":\"\",\"title\":{\"standoff\":15},\"zerolinecolor\":\"#283442\",\"zerolinewidth\":2}}},\"scene\":{\"xaxis\":{\"backgroundcolor\":\"black\",\"nticks\":10,\"range\":[39.999,59.001]},\"yaxis\":{\"backgroundcolor\":\"black\",\"nticks\":10,\"range\":[39.999,59.001]},\"zaxis\":{\"backgroundcolor\":\"black\",\"nticks\":10,\"range\":[0,19.002]},\"camera\":{\"eye\":{\"x\":-0.7142857142857143,\"y\":-1.4285714285714286,\"z\":0.2142857142857143},\"center\":{\"x\":0,\"y\":0,\"z\":-0.4210609409535838}},\"aspectmode\":\"cube\"},\"margin\":{\"l\":10,\"r\":10,\"b\":10,\"t\":10,\"pad\":4},\"paper_bgcolor\":\"black\",\"width\":800,\"height\":500},                        {\"responsive\": true}                    ).then(function(){\n",
              "                            \n",
              "var gd = document.getElementById('d5464a5c-a8f2-4c19-9a11-cf980d7d6d2e');\n",
              "var x = new MutationObserver(function (mutations, observer) {{\n",
              "        var display = window.getComputedStyle(gd).display;\n",
              "        if (!display || display === 'none') {{\n",
              "            console.log([gd, 'removed!']);\n",
              "            Plotly.purge(gd);\n",
              "            observer.disconnect();\n",
              "        }}\n",
              "}});\n",
              "\n",
              "// Listen for the removal of the full notebook cells\n",
              "var notebookContainer = gd.closest('#notebook-container');\n",
              "if (notebookContainer) {{\n",
              "    x.observe(notebookContainer, {childList: true});\n",
              "}}\n",
              "\n",
              "// Listen for the clearing of the current output cell\n",
              "var outputEl = gd.closest('.output');\n",
              "if (outputEl) {{\n",
              "    x.observe(outputEl, {childList: true});\n",
              "}}\n",
              "\n",
              "                        })                };                            </script>        </div>\n",
              "</body>\n",
              "</html>"
            ]
          },
          "metadata": {}
        }
      ]
    },
    {
      "cell_type": "code",
      "source": [
        "# prompt: 偶数层的顺序有问题，参考这面的偶数层，其他不变;\t\tsteps = []\n",
        "# \t\tamplitude = 19\n",
        "# \t\tline_spacing = 1\n",
        "# \t\tperiods = 10\n",
        "# \t\textra_half_period = False\n",
        "# \t\textra_end_line = False\n",
        "# \t\t# 初始化第一层的起始点和方向\n",
        "# \t\tstart_points = [fc.Point(x=40, y=40, z=0)]\n",
        "# \t\tdirections = [fc.Vector(x=1, y=0)]\n",
        "# \t\t# 生成后续层的起始点和方向，确保每层相对于前一层有适当的位移和方向变化\n",
        "# \t\tfor layer in range(1, layers):\n",
        "# \t\t    prev_start = start_points[-1]\n",
        "# \t\t    if layer % 4 == 1:\n",
        "# \t\t        new_start = fc.Point(x=prev_start.x + 19, y=prev_start.y, z=layer)\n",
        "# \t\t        new_direction = fc.Vector(x=0, y=1)\n",
        "# \t\t    elif layer % 4 == 2:\n",
        "# \t\t        new_start = fc.Point(x=prev_start.x, y=prev_start.y + 19, z=layer)\n",
        "# \t\t        new_direction = fc.Vector(x=-1, y=0)\n",
        "# \t\t    elif layer % 4 == 3:\n",
        "# \t\t        new_start = fc.Point(x=prev_start.x - 19, y=prev_start.y, z=layer)\n",
        "# \t\t        new_direction = fc.Vector(x=0, y=-1)\n",
        "# \t\t    else:\n",
        "# \t\t        new_start = fc.Point(x=prev_start.x, y=prev_start.y - 19, z=layer)\n",
        "# \t\t        new_direction = fc.Vector(x=1, y=0)\n",
        "# \t\t    start_points.append(new_start)\n",
        "# \t\t    dire\n",
        "\n",
        "import fullcontrol as fc\n",
        "from google.colab import files\n",
        "# # FullControl design template\n",
        "#\n",
        "# *<<< check out demo models [here](https://github.com/FullControlXYZ/fullcontrol/tree/master/models/README.md) >>>*\n",
        "#\n",
        "# press ctrl+F9 to run all cells in this notebook, or press shift+enter to run each cell sequentially\n",
        "#\n",
        "# if you change one of the code cells, make sure you run it and all subsequent cells again (in order)\n",
        "#\n",
        "# *this document is a jupyter notebook - if they're new to you, check out how they work: [link](https://www.google.com/search?q=ipynb+tutorial), [link](https://jupyter.org/try-jupyter/retro/notebooks/?path=notebooks/Intro.ipynb), [link](https://colab.research.google.com/)*\n",
        "# ### be patient :)\n",
        "#\n",
        "# the next code cell may take a while because running it causes several things to happen:\n",
        "# - connect to a google colab server -> download the fullcontrol code -> install the fullcontrol code\n",
        "#\n",
        "# check out [other tutorials](https://github.com/FullControlXYZ/fullcontrol/blob/master/tutorials/README.md) to understand the python code for the FullControl design\n",
        "if 'google.colab' in str(get_ipython()):\n",
        "  !pip install git+https://github.com/FullControlXYZ/fullcontrol --quiet\n",
        "# printer/gcode parameters\n",
        "\n",
        "design_name = 'my_design'\n",
        "nozzle_temp = 210\n",
        "bed_temp = 40\n",
        "print_speed = 1000\n",
        "fan_percent = 100\n",
        "printer_name='bambulab_x1' # generic / ultimaker2plus / prusa_i3 / ender_3 / cr_10 / bambulab_x1 / toolchanger_T0\n",
        "# design parameters\n",
        "\n",
        "EW = 0.8 # extrusion width\n",
        "EH = 0.3 # extrusion height (and layer height)\n",
        "initial_z = EH*0.6 # initial nozzle position is set to 0.6x the extrusion height to get a bit of 'squish' for good bed adhesion\n",
        "layers = 4\n",
        "steps = []\n",
        "\n",
        "\n",
        "amplitude = 19\n",
        "line_spacing = 1\n",
        "periods = 10\n",
        "extra_half_period = False\n",
        "extra_end_line = False\n",
        "\n",
        "# 初始化第一层的起始点和方向\n",
        "start_points = [fc.Point(x=40, y=40, z=0)]\n",
        "directions = [fc.Vector(x=1, y=0)]\n",
        "\n",
        "# 生成后续层的起始点和方向，确保每层相对于前一层有适当的位移和方向变化\n",
        "for layer in range(1, layers):\n",
        "    prev_start = start_points[-1]\n",
        "    if layer % 4 == 1:\n",
        "        new_start = fc.Point(x=prev_start.x + 19, y=prev_start.y, z=layer)\n",
        "        new_direction = fc.Vector(x=0, y=1)\n",
        "    elif layer % 4 == 2:\n",
        "        new_start = fc.Point(x=prev_start.x, y=prev_start.y + 19, z=layer)\n",
        "        new_direction = fc.Vector(x=-1, y=0)\n",
        "    elif layer % 4 == 3:\n",
        "        new_start = fc.Point(x=prev_start.x - 19, y=prev_start.y, z=layer)\n",
        "        new_direction = fc.Vector(x=0, y=-1)\n",
        "    else:\n",
        "        new_start = fc.Point(x=prev_start.x, y=prev_start.y - 19, z=layer)\n",
        "        new_direction = fc.Vector(x=1, y=0)\n",
        "\n",
        "    start_points.append(new_start)\n",
        "    directions.append(new_direction)\n",
        "\n",
        "# 生成每一层的方波路径\n",
        "for layer in range(layers):\n",
        "    start_point = start_points[layer]\n",
        "    direction = directions[layer]\n",
        "\n",
        "    layer_steps = fc.squarewaveXY(start_point, direction, amplitude, line_spacing, periods, extra_half_period, extra_end_line)\n",
        "    #layer_steps.append(fc.PlotAnnotation(point=start_point, label=f\"start of wave layer {layer + 1}\"))\n",
        "    steps.extend(layer_steps)\n",
        "\n",
        "# 将所有层次的路径进行变换和绘制\n",
        "fc.transform(steps, 'plot', fc.PlotControls(style='line', zoom=0.7))"
      ],
      "metadata": {
        "id": "p5OUkAX9UgsR",
        "outputId": "31041ade-4f3e-418d-853c-f0750732ad3e",
        "colab": {
          "base_uri": "https://localhost:8080/",
          "height": 569
        }
      },
      "execution_count": 55,
      "outputs": [
        {
          "output_type": "stream",
          "name": "stdout",
          "text": [
            "  Installing build dependencies ... \u001b[?25l\u001b[?25hdone\n",
            "  Getting requirements to build wheel ... \u001b[?25l\u001b[?25hdone\n",
            "  Preparing metadata (pyproject.toml) ... \u001b[?25l\u001b[?25hdone\n"
          ]
        },
        {
          "output_type": "display_data",
          "data": {
            "text/html": [
              "<html>\n",
              "<head><meta charset=\"utf-8\" /></head>\n",
              "<body>\n",
              "    <div>            <script src=\"https://cdnjs.cloudflare.com/ajax/libs/mathjax/2.7.5/MathJax.js?config=TeX-AMS-MML_SVG\"></script><script type=\"text/javascript\">if (window.MathJax && window.MathJax.Hub && window.MathJax.Hub.Config) {window.MathJax.Hub.Config({SVG: {font: \"STIX-Web\"}});}</script>                <script type=\"text/javascript\">window.PlotlyConfig = {MathJaxConfig: 'local'};</script>\n",
              "        <script charset=\"utf-8\" src=\"https://cdn.plot.ly/plotly-2.35.2.min.js\"></script>                <div id=\"06f8cc82-60e0-4edf-bdde-17331cb200c1\" class=\"plotly-graph-div\" style=\"height:500px; width:800px;\"></div>            <script type=\"text/javascript\">                                    window.PLOTLYENV=window.PLOTLYENV || {};                                    if (document.getElementById(\"06f8cc82-60e0-4edf-bdde-17331cb200c1\")) {                    Plotly.newPlot(                        \"06f8cc82-60e0-4edf-bdde-17331cb200c1\",                        [{\"line\":{\"color\":[\"rgb(0.00, 0.00, 255.00)\",\"rgb(0.00, 0.00, 255.00)\",\"rgb(0.00, 0.00, 255.00)\",\"rgb(0.00, 0.00, 255.00)\",\"rgb(0.00, 0.00, 255.00)\",\"rgb(0.00, 0.00, 255.00)\",\"rgb(0.00, 0.00, 255.00)\",\"rgb(0.00, 0.00, 255.00)\",\"rgb(0.00, 0.00, 255.00)\",\"rgb(0.00, 0.00, 255.00)\",\"rgb(0.00, 0.00, 255.00)\",\"rgb(0.00, 0.00, 255.00)\",\"rgb(0.00, 0.00, 255.00)\",\"rgb(0.00, 0.00, 255.00)\",\"rgb(0.00, 0.00, 255.00)\",\"rgb(0.00, 0.00, 255.00)\",\"rgb(0.00, 0.00, 255.00)\",\"rgb(0.00, 0.00, 255.00)\",\"rgb(0.00, 0.00, 255.00)\",\"rgb(0.00, 0.00, 255.00)\",\"rgb(0.00, 0.00, 255.00)\",\"rgb(0.00, 0.00, 255.00)\",\"rgb(0.00, 0.00, 255.00)\",\"rgb(0.00, 0.00, 255.00)\",\"rgb(0.00, 0.00, 255.00)\",\"rgb(0.00, 0.00, 255.00)\",\"rgb(0.00, 0.00, 255.00)\",\"rgb(0.00, 0.00, 255.00)\",\"rgb(0.00, 0.00, 255.00)\",\"rgb(0.00, 0.00, 255.00)\",\"rgb(0.00, 0.00, 255.00)\",\"rgb(0.00, 0.00, 255.00)\",\"rgb(0.00, 0.00, 255.00)\",\"rgb(0.00, 0.00, 255.00)\",\"rgb(0.00, 0.00, 255.00)\",\"rgb(0.00, 0.00, 255.00)\",\"rgb(0.00, 0.00, 255.00)\",\"rgb(0.00, 0.00, 255.00)\",\"rgb(0.00, 0.00, 255.00)\",\"rgb(0.00, 0.00, 255.00)\",\"rgb(0.00, 84.92, 255.00)\",\"rgb(0.00, 84.92, 255.00)\",\"rgb(0.00, 84.92, 255.00)\",\"rgb(0.00, 84.92, 255.00)\",\"rgb(0.00, 84.92, 255.00)\",\"rgb(0.00, 84.92, 255.00)\",\"rgb(0.00, 84.92, 255.00)\",\"rgb(0.00, 84.92, 255.00)\",\"rgb(0.00, 84.92, 255.00)\",\"rgb(0.00, 84.92, 255.00)\",\"rgb(0.00, 84.92, 255.00)\",\"rgb(0.00, 84.92, 255.00)\",\"rgb(0.00, 84.92, 255.00)\",\"rgb(0.00, 84.92, 255.00)\",\"rgb(0.00, 84.92, 255.00)\",\"rgb(0.00, 84.92, 255.00)\",\"rgb(0.00, 84.92, 255.00)\",\"rgb(0.00, 84.92, 255.00)\",\"rgb(0.00, 84.92, 255.00)\",\"rgb(0.00, 84.92, 255.00)\",\"rgb(0.00, 84.92, 255.00)\",\"rgb(0.00, 84.92, 255.00)\",\"rgb(0.00, 84.92, 255.00)\",\"rgb(0.00, 84.92, 255.00)\",\"rgb(0.00, 84.92, 255.00)\",\"rgb(0.00, 84.92, 255.00)\",\"rgb(0.00, 84.92, 255.00)\",\"rgb(0.00, 84.92, 255.00)\",\"rgb(0.00, 84.92, 255.00)\",\"rgb(0.00, 84.92, 255.00)\",\"rgb(0.00, 84.92, 255.00)\",\"rgb(0.00, 84.92, 255.00)\",\"rgb(0.00, 84.92, 255.00)\",\"rgb(0.00, 84.92, 255.00)\",\"rgb(0.00, 84.92, 255.00)\",\"rgb(0.00, 84.92, 255.00)\",\"rgb(0.00, 84.92, 255.00)\",\"rgb(0.00, 84.92, 255.00)\",\"rgb(0.00, 84.92, 255.00)\",\"rgb(0.00, 84.92, 255.00)\",\"rgb(0.00, 170.09, 255.00)\",\"rgb(0.00, 170.09, 255.00)\",\"rgb(0.00, 170.09, 255.00)\",\"rgb(0.00, 170.09, 255.00)\",\"rgb(0.00, 170.09, 255.00)\",\"rgb(0.00, 170.09, 255.00)\",\"rgb(0.00, 170.09, 255.00)\",\"rgb(0.00, 170.09, 255.00)\",\"rgb(0.00, 170.09, 255.00)\",\"rgb(0.00, 170.09, 255.00)\",\"rgb(0.00, 170.09, 255.00)\",\"rgb(0.00, 170.09, 255.00)\",\"rgb(0.00, 170.09, 255.00)\",\"rgb(0.00, 170.09, 255.00)\",\"rgb(0.00, 170.09, 255.00)\",\"rgb(0.00, 170.09, 255.00)\",\"rgb(0.00, 170.09, 255.00)\",\"rgb(0.00, 170.09, 255.00)\",\"rgb(0.00, 170.09, 255.00)\",\"rgb(0.00, 170.09, 255.00)\",\"rgb(0.00, 170.09, 255.00)\",\"rgb(0.00, 170.09, 255.00)\",\"rgb(0.00, 170.09, 255.00)\",\"rgb(0.00, 170.09, 255.00)\",\"rgb(0.00, 170.09, 255.00)\",\"rgb(0.00, 170.09, 255.00)\",\"rgb(0.00, 170.09, 255.00)\",\"rgb(0.00, 170.09, 255.00)\",\"rgb(0.00, 170.09, 255.00)\",\"rgb(0.00, 170.09, 255.00)\",\"rgb(0.00, 170.09, 255.00)\",\"rgb(0.00, 170.09, 255.00)\",\"rgb(0.00, 170.09, 255.00)\",\"rgb(0.00, 170.09, 255.00)\",\"rgb(0.00, 170.09, 255.00)\",\"rgb(0.00, 170.09, 255.00)\",\"rgb(0.00, 170.09, 255.00)\",\"rgb(0.00, 170.09, 255.00)\",\"rgb(0.00, 170.09, 255.00)\",\"rgb(0.00, 170.09, 255.00)\",\"rgb(0.00, 255.00, 255.00)\",\"rgb(0.00, 255.00, 255.00)\",\"rgb(0.00, 255.00, 255.00)\",\"rgb(0.00, 255.00, 255.00)\",\"rgb(0.00, 255.00, 255.00)\",\"rgb(0.00, 255.00, 255.00)\",\"rgb(0.00, 255.00, 255.00)\",\"rgb(0.00, 255.00, 255.00)\",\"rgb(0.00, 255.00, 255.00)\",\"rgb(0.00, 255.00, 255.00)\",\"rgb(0.00, 255.00, 255.00)\",\"rgb(0.00, 255.00, 255.00)\",\"rgb(0.00, 255.00, 255.00)\",\"rgb(0.00, 255.00, 255.00)\",\"rgb(0.00, 255.00, 255.00)\",\"rgb(0.00, 255.00, 255.00)\",\"rgb(0.00, 255.00, 255.00)\",\"rgb(0.00, 255.00, 255.00)\",\"rgb(0.00, 255.00, 255.00)\",\"rgb(0.00, 255.00, 255.00)\",\"rgb(0.00, 255.00, 255.00)\",\"rgb(0.00, 255.00, 255.00)\",\"rgb(0.00, 255.00, 255.00)\",\"rgb(0.00, 255.00, 255.00)\",\"rgb(0.00, 255.00, 255.00)\",\"rgb(0.00, 255.00, 255.00)\",\"rgb(0.00, 255.00, 255.00)\",\"rgb(0.00, 255.00, 255.00)\",\"rgb(0.00, 255.00, 255.00)\",\"rgb(0.00, 255.00, 255.00)\",\"rgb(0.00, 255.00, 255.00)\",\"rgb(0.00, 255.00, 255.00)\",\"rgb(0.00, 255.00, 255.00)\",\"rgb(0.00, 255.00, 255.00)\",\"rgb(0.00, 255.00, 255.00)\",\"rgb(0.00, 255.00, 255.00)\",\"rgb(0.00, 255.00, 255.00)\",\"rgb(0.00, 255.00, 255.00)\",\"rgb(0.00, 255.00, 255.00)\",\"rgb(0.00, 255.00, 255.00)\"],\"width\":4},\"mode\":\"lines\",\"showlegend\":false,\"x\":[40.0,40.0,41.0,41.0,42.0,42.0,43.0,43.0,44.0,44.0,45.0,45.0,46.0,46.0,47.0,47.0,48.0,48.0,49.0,49.0,50.0,50.0,51.0,51.0,52.0,52.0,53.0,53.0,54.0,54.0,55.0,55.0,56.0,56.0,57.0,57.0,58.0,58.0,59.0,59.0,59.0,40.0,40.0,59.0,59.0,40.0,40.0,59.0,59.0,40.0,40.0,59.0,59.0,40.0,40.0,59.0,59.0,40.0,40.0,59.0,59.0,40.0,40.0,59.0,59.0,40.0,40.0,59.0,59.0,40.0,40.0,59.0,59.0,40.0,40.0,59.0,59.0,40.0,40.0,59.0,59.0,59.0,58.0,58.0,57.0,57.0,56.0,56.0,55.0,55.0,54.0,54.0,53.0,53.0,52.0,52.0,51.0,51.0,50.0,50.0,49.0,49.0,48.0,48.0,47.0,47.0,46.0,46.0,45.0,45.0,44.0,44.0,43.0,43.0,42.0,42.0,41.0,41.0,40.0,40.0,40.0,59.0,59.0,40.0,40.0,59.0,59.0,40.0,40.0,59.0,59.0,40.0,40.0,59.0,59.0,40.0,40.0,59.0,59.0,40.0,40.0,59.0,59.0,40.0,40.0,59.0,59.0,40.0,40.0,59.0,59.0,40.0,40.0,59.0,59.0,40.0,40.0,59.0,59.0,40.0],\"y\":[40.0,59.0,59.0,40.0,40.0,59.0,59.0,40.0,40.0,59.0,59.0,40.0,40.0,59.0,59.0,40.0,40.0,59.0,59.0,40.0,40.0,59.0,59.0,40.0,40.0,59.0,59.0,40.0,40.0,59.0,59.0,40.0,40.0,59.0,59.0,40.0,40.0,59.0,59.0,40.0,40.0,40.0,41.0,41.0,42.0,42.0,43.0,43.0,44.0,44.0,45.0,45.0,46.0,46.0,47.0,47.0,48.0,48.0,49.0,49.0,50.0,50.0,51.0,51.0,52.0,52.0,53.0,53.0,54.0,54.0,55.0,55.0,56.0,56.0,57.0,57.0,58.0,58.0,59.0,59.0,59.0,40.0,40.0,59.0,59.0,40.0,40.0,59.0,59.0,40.0,40.0,59.0,59.0,40.0,40.0,59.0,59.0,40.0,40.0,59.0,59.0,40.0,40.0,59.0,59.0,40.0,40.0,59.0,59.0,40.0,40.0,59.0,59.0,40.0,40.0,59.0,59.0,40.0,40.0,59.0,59.0,59.0,58.0,58.0,57.0,57.0,56.0,56.0,55.0,55.0,54.0,54.0,53.0,53.0,52.0,52.0,51.0,51.0,50.0,50.0,49.0,49.0,48.0,48.0,47.0,47.0,46.0,46.0,45.0,45.0,44.0,44.0,43.0,43.0,42.0,42.0,41.0,41.0,40.0,40.0],\"z\":[0.0,0.0,0.0,0.0,0.0,0.0,0.0,0.0,0.0,0.0,0.0,0.0,0.0,0.0,0.0,0.0,0.0,0.0,0.0,0.0,0.0,0.0,0.0,0.0,0.0,0.0,0.0,0.0,0.0,0.0,0.0,0.0,0.0,0.0,0.0,0.0,0.0,0.0,0.0,0.0,1.0,1.0,1.0,1.0,1.0,1.0,1.0,1.0,1.0,1.0,1.0,1.0,1.0,1.0,1.0,1.0,1.0,1.0,1.0,1.0,1.0,1.0,1.0,1.0,1.0,1.0,1.0,1.0,1.0,1.0,1.0,1.0,1.0,1.0,1.0,1.0,1.0,1.0,1.0,1.0,2.0,2.0,2.0,2.0,2.0,2.0,2.0,2.0,2.0,2.0,2.0,2.0,2.0,2.0,2.0,2.0,2.0,2.0,2.0,2.0,2.0,2.0,2.0,2.0,2.0,2.0,2.0,2.0,2.0,2.0,2.0,2.0,2.0,2.0,2.0,2.0,2.0,2.0,2.0,2.0,3.0,3.0,3.0,3.0,3.0,3.0,3.0,3.0,3.0,3.0,3.0,3.0,3.0,3.0,3.0,3.0,3.0,3.0,3.0,3.0,3.0,3.0,3.0,3.0,3.0,3.0,3.0,3.0,3.0,3.0,3.0,3.0,3.0,3.0,3.0,3.0,3.0,3.0,3.0,3.0],\"type\":\"scatter3d\"},{\"marker\":{\"color\":\"red\",\"size\":2},\"mode\":\"markers\",\"showlegend\":false,\"x\":[],\"y\":[],\"z\":[],\"type\":\"scatter3d\"}],                        {\"template\":{\"data\":{\"barpolar\":[{\"marker\":{\"line\":{\"color\":\"rgb(17,17,17)\",\"width\":0.5},\"pattern\":{\"fillmode\":\"overlay\",\"size\":10,\"solidity\":0.2}},\"type\":\"barpolar\"}],\"bar\":[{\"error_x\":{\"color\":\"#f2f5fa\"},\"error_y\":{\"color\":\"#f2f5fa\"},\"marker\":{\"line\":{\"color\":\"rgb(17,17,17)\",\"width\":0.5},\"pattern\":{\"fillmode\":\"overlay\",\"size\":10,\"solidity\":0.2}},\"type\":\"bar\"}],\"carpet\":[{\"aaxis\":{\"endlinecolor\":\"#A2B1C6\",\"gridcolor\":\"#506784\",\"linecolor\":\"#506784\",\"minorgridcolor\":\"#506784\",\"startlinecolor\":\"#A2B1C6\"},\"baxis\":{\"endlinecolor\":\"#A2B1C6\",\"gridcolor\":\"#506784\",\"linecolor\":\"#506784\",\"minorgridcolor\":\"#506784\",\"startlinecolor\":\"#A2B1C6\"},\"type\":\"carpet\"}],\"choropleth\":[{\"colorbar\":{\"outlinewidth\":0,\"ticks\":\"\"},\"type\":\"choropleth\"}],\"contourcarpet\":[{\"colorbar\":{\"outlinewidth\":0,\"ticks\":\"\"},\"type\":\"contourcarpet\"}],\"contour\":[{\"colorbar\":{\"outlinewidth\":0,\"ticks\":\"\"},\"colorscale\":[[0.0,\"#0d0887\"],[0.1111111111111111,\"#46039f\"],[0.2222222222222222,\"#7201a8\"],[0.3333333333333333,\"#9c179e\"],[0.4444444444444444,\"#bd3786\"],[0.5555555555555556,\"#d8576b\"],[0.6666666666666666,\"#ed7953\"],[0.7777777777777778,\"#fb9f3a\"],[0.8888888888888888,\"#fdca26\"],[1.0,\"#f0f921\"]],\"type\":\"contour\"}],\"heatmapgl\":[{\"colorbar\":{\"outlinewidth\":0,\"ticks\":\"\"},\"colorscale\":[[0.0,\"#0d0887\"],[0.1111111111111111,\"#46039f\"],[0.2222222222222222,\"#7201a8\"],[0.3333333333333333,\"#9c179e\"],[0.4444444444444444,\"#bd3786\"],[0.5555555555555556,\"#d8576b\"],[0.6666666666666666,\"#ed7953\"],[0.7777777777777778,\"#fb9f3a\"],[0.8888888888888888,\"#fdca26\"],[1.0,\"#f0f921\"]],\"type\":\"heatmapgl\"}],\"heatmap\":[{\"colorbar\":{\"outlinewidth\":0,\"ticks\":\"\"},\"colorscale\":[[0.0,\"#0d0887\"],[0.1111111111111111,\"#46039f\"],[0.2222222222222222,\"#7201a8\"],[0.3333333333333333,\"#9c179e\"],[0.4444444444444444,\"#bd3786\"],[0.5555555555555556,\"#d8576b\"],[0.6666666666666666,\"#ed7953\"],[0.7777777777777778,\"#fb9f3a\"],[0.8888888888888888,\"#fdca26\"],[1.0,\"#f0f921\"]],\"type\":\"heatmap\"}],\"histogram2dcontour\":[{\"colorbar\":{\"outlinewidth\":0,\"ticks\":\"\"},\"colorscale\":[[0.0,\"#0d0887\"],[0.1111111111111111,\"#46039f\"],[0.2222222222222222,\"#7201a8\"],[0.3333333333333333,\"#9c179e\"],[0.4444444444444444,\"#bd3786\"],[0.5555555555555556,\"#d8576b\"],[0.6666666666666666,\"#ed7953\"],[0.7777777777777778,\"#fb9f3a\"],[0.8888888888888888,\"#fdca26\"],[1.0,\"#f0f921\"]],\"type\":\"histogram2dcontour\"}],\"histogram2d\":[{\"colorbar\":{\"outlinewidth\":0,\"ticks\":\"\"},\"colorscale\":[[0.0,\"#0d0887\"],[0.1111111111111111,\"#46039f\"],[0.2222222222222222,\"#7201a8\"],[0.3333333333333333,\"#9c179e\"],[0.4444444444444444,\"#bd3786\"],[0.5555555555555556,\"#d8576b\"],[0.6666666666666666,\"#ed7953\"],[0.7777777777777778,\"#fb9f3a\"],[0.8888888888888888,\"#fdca26\"],[1.0,\"#f0f921\"]],\"type\":\"histogram2d\"}],\"histogram\":[{\"marker\":{\"pattern\":{\"fillmode\":\"overlay\",\"size\":10,\"solidity\":0.2}},\"type\":\"histogram\"}],\"mesh3d\":[{\"colorbar\":{\"outlinewidth\":0,\"ticks\":\"\"},\"type\":\"mesh3d\"}],\"parcoords\":[{\"line\":{\"colorbar\":{\"outlinewidth\":0,\"ticks\":\"\"}},\"type\":\"parcoords\"}],\"pie\":[{\"automargin\":true,\"type\":\"pie\"}],\"scatter3d\":[{\"line\":{\"colorbar\":{\"outlinewidth\":0,\"ticks\":\"\"}},\"marker\":{\"colorbar\":{\"outlinewidth\":0,\"ticks\":\"\"}},\"type\":\"scatter3d\"}],\"scattercarpet\":[{\"marker\":{\"colorbar\":{\"outlinewidth\":0,\"ticks\":\"\"}},\"type\":\"scattercarpet\"}],\"scattergeo\":[{\"marker\":{\"colorbar\":{\"outlinewidth\":0,\"ticks\":\"\"}},\"type\":\"scattergeo\"}],\"scattergl\":[{\"marker\":{\"line\":{\"color\":\"#283442\"}},\"type\":\"scattergl\"}],\"scattermapbox\":[{\"marker\":{\"colorbar\":{\"outlinewidth\":0,\"ticks\":\"\"}},\"type\":\"scattermapbox\"}],\"scatterpolargl\":[{\"marker\":{\"colorbar\":{\"outlinewidth\":0,\"ticks\":\"\"}},\"type\":\"scatterpolargl\"}],\"scatterpolar\":[{\"marker\":{\"colorbar\":{\"outlinewidth\":0,\"ticks\":\"\"}},\"type\":\"scatterpolar\"}],\"scatter\":[{\"marker\":{\"line\":{\"color\":\"#283442\"}},\"type\":\"scatter\"}],\"scatterternary\":[{\"marker\":{\"colorbar\":{\"outlinewidth\":0,\"ticks\":\"\"}},\"type\":\"scatterternary\"}],\"surface\":[{\"colorbar\":{\"outlinewidth\":0,\"ticks\":\"\"},\"colorscale\":[[0.0,\"#0d0887\"],[0.1111111111111111,\"#46039f\"],[0.2222222222222222,\"#7201a8\"],[0.3333333333333333,\"#9c179e\"],[0.4444444444444444,\"#bd3786\"],[0.5555555555555556,\"#d8576b\"],[0.6666666666666666,\"#ed7953\"],[0.7777777777777778,\"#fb9f3a\"],[0.8888888888888888,\"#fdca26\"],[1.0,\"#f0f921\"]],\"type\":\"surface\"}],\"table\":[{\"cells\":{\"fill\":{\"color\":\"#506784\"},\"line\":{\"color\":\"rgb(17,17,17)\"}},\"header\":{\"fill\":{\"color\":\"#2a3f5f\"},\"line\":{\"color\":\"rgb(17,17,17)\"}},\"type\":\"table\"}]},\"layout\":{\"annotationdefaults\":{\"arrowcolor\":\"#f2f5fa\",\"arrowhead\":0,\"arrowwidth\":1},\"autotypenumbers\":\"strict\",\"coloraxis\":{\"colorbar\":{\"outlinewidth\":0,\"ticks\":\"\"}},\"colorscale\":{\"diverging\":[[0,\"#8e0152\"],[0.1,\"#c51b7d\"],[0.2,\"#de77ae\"],[0.3,\"#f1b6da\"],[0.4,\"#fde0ef\"],[0.5,\"#f7f7f7\"],[0.6,\"#e6f5d0\"],[0.7,\"#b8e186\"],[0.8,\"#7fbc41\"],[0.9,\"#4d9221\"],[1,\"#276419\"]],\"sequential\":[[0.0,\"#0d0887\"],[0.1111111111111111,\"#46039f\"],[0.2222222222222222,\"#7201a8\"],[0.3333333333333333,\"#9c179e\"],[0.4444444444444444,\"#bd3786\"],[0.5555555555555556,\"#d8576b\"],[0.6666666666666666,\"#ed7953\"],[0.7777777777777778,\"#fb9f3a\"],[0.8888888888888888,\"#fdca26\"],[1.0,\"#f0f921\"]],\"sequentialminus\":[[0.0,\"#0d0887\"],[0.1111111111111111,\"#46039f\"],[0.2222222222222222,\"#7201a8\"],[0.3333333333333333,\"#9c179e\"],[0.4444444444444444,\"#bd3786\"],[0.5555555555555556,\"#d8576b\"],[0.6666666666666666,\"#ed7953\"],[0.7777777777777778,\"#fb9f3a\"],[0.8888888888888888,\"#fdca26\"],[1.0,\"#f0f921\"]]},\"colorway\":[\"#636efa\",\"#EF553B\",\"#00cc96\",\"#ab63fa\",\"#FFA15A\",\"#19d3f3\",\"#FF6692\",\"#B6E880\",\"#FF97FF\",\"#FECB52\"],\"font\":{\"color\":\"#f2f5fa\"},\"geo\":{\"bgcolor\":\"rgb(17,17,17)\",\"lakecolor\":\"rgb(17,17,17)\",\"landcolor\":\"rgb(17,17,17)\",\"showlakes\":true,\"showland\":true,\"subunitcolor\":\"#506784\"},\"hoverlabel\":{\"align\":\"left\"},\"hovermode\":\"closest\",\"mapbox\":{\"style\":\"dark\"},\"paper_bgcolor\":\"rgb(17,17,17)\",\"plot_bgcolor\":\"rgb(17,17,17)\",\"polar\":{\"angularaxis\":{\"gridcolor\":\"#506784\",\"linecolor\":\"#506784\",\"ticks\":\"\"},\"bgcolor\":\"rgb(17,17,17)\",\"radialaxis\":{\"gridcolor\":\"#506784\",\"linecolor\":\"#506784\",\"ticks\":\"\"}},\"scene\":{\"xaxis\":{\"backgroundcolor\":\"rgb(17,17,17)\",\"gridcolor\":\"#506784\",\"gridwidth\":2,\"linecolor\":\"#506784\",\"showbackground\":true,\"ticks\":\"\",\"zerolinecolor\":\"#C8D4E3\"},\"yaxis\":{\"backgroundcolor\":\"rgb(17,17,17)\",\"gridcolor\":\"#506784\",\"gridwidth\":2,\"linecolor\":\"#506784\",\"showbackground\":true,\"ticks\":\"\",\"zerolinecolor\":\"#C8D4E3\"},\"zaxis\":{\"backgroundcolor\":\"rgb(17,17,17)\",\"gridcolor\":\"#506784\",\"gridwidth\":2,\"linecolor\":\"#506784\",\"showbackground\":true,\"ticks\":\"\",\"zerolinecolor\":\"#C8D4E3\"}},\"shapedefaults\":{\"line\":{\"color\":\"#f2f5fa\"}},\"sliderdefaults\":{\"bgcolor\":\"#C8D4E3\",\"bordercolor\":\"rgb(17,17,17)\",\"borderwidth\":1,\"tickwidth\":0},\"ternary\":{\"aaxis\":{\"gridcolor\":\"#506784\",\"linecolor\":\"#506784\",\"ticks\":\"\"},\"baxis\":{\"gridcolor\":\"#506784\",\"linecolor\":\"#506784\",\"ticks\":\"\"},\"bgcolor\":\"rgb(17,17,17)\",\"caxis\":{\"gridcolor\":\"#506784\",\"linecolor\":\"#506784\",\"ticks\":\"\"}},\"title\":{\"x\":0.05},\"updatemenudefaults\":{\"bgcolor\":\"#506784\",\"borderwidth\":0},\"xaxis\":{\"automargin\":true,\"gridcolor\":\"#283442\",\"linecolor\":\"#506784\",\"ticks\":\"\",\"title\":{\"standoff\":15},\"zerolinecolor\":\"#283442\",\"zerolinewidth\":2},\"yaxis\":{\"automargin\":true,\"gridcolor\":\"#283442\",\"linecolor\":\"#506784\",\"ticks\":\"\",\"title\":{\"standoff\":15},\"zerolinecolor\":\"#283442\",\"zerolinewidth\":2}}},\"scene\":{\"xaxis\":{\"backgroundcolor\":\"black\",\"nticks\":10,\"range\":[39.999,59.001]},\"yaxis\":{\"backgroundcolor\":\"black\",\"nticks\":10,\"range\":[39.999,59.001]},\"zaxis\":{\"backgroundcolor\":\"black\",\"nticks\":10,\"range\":[0,19.002]},\"camera\":{\"eye\":{\"x\":-0.7142857142857143,\"y\":-1.4285714285714286,\"z\":0.2142857142857143},\"center\":{\"x\":0,\"y\":0,\"z\":-0.4210609409535838}},\"aspectmode\":\"cube\"},\"margin\":{\"l\":10,\"r\":10,\"b\":10,\"t\":10,\"pad\":4},\"paper_bgcolor\":\"black\",\"width\":800,\"height\":500},                        {\"responsive\": true}                    ).then(function(){\n",
              "                            \n",
              "var gd = document.getElementById('06f8cc82-60e0-4edf-bdde-17331cb200c1');\n",
              "var x = new MutationObserver(function (mutations, observer) {{\n",
              "        var display = window.getComputedStyle(gd).display;\n",
              "        if (!display || display === 'none') {{\n",
              "            console.log([gd, 'removed!']);\n",
              "            Plotly.purge(gd);\n",
              "            observer.disconnect();\n",
              "        }}\n",
              "}});\n",
              "\n",
              "// Listen for the removal of the full notebook cells\n",
              "var notebookContainer = gd.closest('#notebook-container');\n",
              "if (notebookContainer) {{\n",
              "    x.observe(notebookContainer, {childList: true});\n",
              "}}\n",
              "\n",
              "// Listen for the clearing of the current output cell\n",
              "var outputEl = gd.closest('.output');\n",
              "if (outputEl) {{\n",
              "    x.observe(outputEl, {childList: true});\n",
              "}}\n",
              "\n",
              "                        })                };                            </script>        </div>\n",
              "</body>\n",
              "</html>"
            ]
          },
          "metadata": {}
        }
      ]
    },
    {
      "cell_type": "code",
      "source": [
        "\t\tsteps = []\n",
        "\n",
        "\n",
        "\t\tamplitude = 19\n",
        "\t\tline_spacing = 1\n",
        "\t\tperiods = 10\n",
        "\t\textra_half_period = False\n",
        "\t\textra_end_line = False\n",
        "\n",
        "\t\t# 初始化第一层的起始点和方向\n",
        "\t\tstart_points = [fc.Point(x=40, y=40, z=0)]\n",
        "\t\tdirections = [fc.Vector(x=1, y=0)]\n",
        "\n",
        "\t\t# 生成后续层的起始点和方向，确保每层相对于前一层有适当的位移和方向变化\n",
        "\t\tfor layer in range(1, layers):\n",
        "\t\t    prev_start = start_points[-1]\n",
        "\t\t    if layer % 4 == 1:\n",
        "\t\t        new_start = fc.Point(x=prev_start.x + 19, y=prev_start.y- (0.5 * line_spacing if layer % 2 == 1 else 0), z=layer)\n",
        "\t\t        new_direction = fc.Vector(x=0, y=1)\n",
        "\t\t    elif layer % 4 == 2:\n",
        "\t\t        new_start = fc.Point(x=prev_start.x, y=prev_start.y + 19, z=layer)\n",
        "\t\t        new_direction = fc.Vector(x=-1, y=0)\n",
        "\t\t    elif layer % 4 == 3:\n",
        "\t\t        new_start = fc.Point(x=prev_start.x - 19, y=prev_start.y, z=layer)\n",
        "\t\t        new_direction = fc.Vector(x=0, y=-1)\n",
        "\t\t    else:\n",
        "\t\t        new_start = fc.Point(x=prev_start.x, y=prev_start.y - 19, z=layer)\n",
        "\t\t        new_direction = fc.Vector(x=1, y=0)\n",
        "\n",
        "\t\t    start_points.append(new_start)\n",
        "\t\t    directions.append(new_direction)\n",
        "\n",
        "\t\t# 生成每一层的方波路径\n",
        "\t\tfor layer in range(layers):\n",
        "\t\t    start_point = start_points[layer]\n",
        "\t\t    direction = directions[layer]\n",
        "\n",
        "\t\t    layer_steps = fc.squarewaveXY(start_point, direction, amplitude, line_spacing, periods, extra_half_period, extra_end_line)\n",
        "\t\t    #layer_steps.append(fc.PlotAnnotation(point=start_point, label=f\"start of wave layer {layer + 1}\"))\n",
        "\t\t    steps.extend(layer_steps)\n",
        "\n",
        "\t\t# 将所有层次的路径进行变换和绘制\n",
        "\t\tfc.transform(steps, 'plot', fc.PlotControls(style='line', zoom=0.7))\n"
      ],
      "metadata": {
        "colab": {
          "base_uri": "https://localhost:8080/",
          "height": 517
        },
        "id": "h4YtyRD0Ivag",
        "outputId": "d2dda973-2425-4f24-e412-020a30ce58ac"
      },
      "execution_count": 50,
      "outputs": [
        {
          "output_type": "display_data",
          "data": {
            "text/html": [
              "<html>\n",
              "<head><meta charset=\"utf-8\" /></head>\n",
              "<body>\n",
              "    <div>            <script src=\"https://cdnjs.cloudflare.com/ajax/libs/mathjax/2.7.5/MathJax.js?config=TeX-AMS-MML_SVG\"></script><script type=\"text/javascript\">if (window.MathJax && window.MathJax.Hub && window.MathJax.Hub.Config) {window.MathJax.Hub.Config({SVG: {font: \"STIX-Web\"}});}</script>                <script type=\"text/javascript\">window.PlotlyConfig = {MathJaxConfig: 'local'};</script>\n",
              "        <script charset=\"utf-8\" src=\"https://cdn.plot.ly/plotly-2.35.2.min.js\"></script>                <div id=\"f037f902-a862-4e4b-8ca8-c26dd8de35a6\" class=\"plotly-graph-div\" style=\"height:500px; width:800px;\"></div>            <script type=\"text/javascript\">                                    window.PLOTLYENV=window.PLOTLYENV || {};                                    if (document.getElementById(\"f037f902-a862-4e4b-8ca8-c26dd8de35a6\")) {                    Plotly.newPlot(                        \"f037f902-a862-4e4b-8ca8-c26dd8de35a6\",                        [{\"line\":{\"color\":[\"rgb(0.00, 0.00, 255.00)\",\"rgb(0.00, 0.00, 255.00)\",\"rgb(0.00, 0.00, 255.00)\",\"rgb(0.00, 0.00, 255.00)\",\"rgb(0.00, 0.00, 255.00)\",\"rgb(0.00, 0.00, 255.00)\",\"rgb(0.00, 0.00, 255.00)\",\"rgb(0.00, 0.00, 255.00)\",\"rgb(0.00, 0.00, 255.00)\",\"rgb(0.00, 0.00, 255.00)\",\"rgb(0.00, 0.00, 255.00)\",\"rgb(0.00, 0.00, 255.00)\",\"rgb(0.00, 0.00, 255.00)\",\"rgb(0.00, 0.00, 255.00)\",\"rgb(0.00, 0.00, 255.00)\",\"rgb(0.00, 0.00, 255.00)\",\"rgb(0.00, 0.00, 255.00)\",\"rgb(0.00, 0.00, 255.00)\",\"rgb(0.00, 0.00, 255.00)\",\"rgb(0.00, 0.00, 255.00)\",\"rgb(0.00, 0.00, 255.00)\",\"rgb(0.00, 0.00, 255.00)\",\"rgb(0.00, 0.00, 255.00)\",\"rgb(0.00, 0.00, 255.00)\",\"rgb(0.00, 0.00, 255.00)\",\"rgb(0.00, 0.00, 255.00)\",\"rgb(0.00, 0.00, 255.00)\",\"rgb(0.00, 0.00, 255.00)\",\"rgb(0.00, 0.00, 255.00)\",\"rgb(0.00, 0.00, 255.00)\",\"rgb(0.00, 0.00, 255.00)\",\"rgb(0.00, 0.00, 255.00)\",\"rgb(0.00, 0.00, 255.00)\",\"rgb(0.00, 0.00, 255.00)\",\"rgb(0.00, 0.00, 255.00)\",\"rgb(0.00, 0.00, 255.00)\",\"rgb(0.00, 0.00, 255.00)\",\"rgb(0.00, 0.00, 255.00)\",\"rgb(0.00, 0.00, 255.00)\",\"rgb(0.00, 0.00, 255.00)\",\"rgb(0.00, 84.92, 255.00)\",\"rgb(0.00, 84.92, 255.00)\",\"rgb(0.00, 84.92, 255.00)\",\"rgb(0.00, 84.92, 255.00)\",\"rgb(0.00, 84.92, 255.00)\",\"rgb(0.00, 84.92, 255.00)\",\"rgb(0.00, 84.92, 255.00)\",\"rgb(0.00, 84.92, 255.00)\",\"rgb(0.00, 84.92, 255.00)\",\"rgb(0.00, 84.92, 255.00)\",\"rgb(0.00, 84.92, 255.00)\",\"rgb(0.00, 84.92, 255.00)\",\"rgb(0.00, 84.92, 255.00)\",\"rgb(0.00, 84.92, 255.00)\",\"rgb(0.00, 84.92, 255.00)\",\"rgb(0.00, 84.92, 255.00)\",\"rgb(0.00, 84.92, 255.00)\",\"rgb(0.00, 84.92, 255.00)\",\"rgb(0.00, 84.92, 255.00)\",\"rgb(0.00, 84.92, 255.00)\",\"rgb(0.00, 84.92, 255.00)\",\"rgb(0.00, 84.92, 255.00)\",\"rgb(0.00, 84.92, 255.00)\",\"rgb(0.00, 84.92, 255.00)\",\"rgb(0.00, 84.92, 255.00)\",\"rgb(0.00, 84.92, 255.00)\",\"rgb(0.00, 84.92, 255.00)\",\"rgb(0.00, 84.92, 255.00)\",\"rgb(0.00, 84.92, 255.00)\",\"rgb(0.00, 84.92, 255.00)\",\"rgb(0.00, 84.92, 255.00)\",\"rgb(0.00, 84.92, 255.00)\",\"rgb(0.00, 84.92, 255.00)\",\"rgb(0.00, 84.92, 255.00)\",\"rgb(0.00, 84.92, 255.00)\",\"rgb(0.00, 84.92, 255.00)\",\"rgb(0.00, 84.92, 255.00)\",\"rgb(0.00, 84.92, 255.00)\",\"rgb(0.00, 84.92, 255.00)\",\"rgb(0.00, 84.92, 255.00)\",\"rgb(0.00, 170.09, 255.00)\",\"rgb(0.00, 170.09, 255.00)\",\"rgb(0.00, 170.09, 255.00)\",\"rgb(0.00, 170.09, 255.00)\",\"rgb(0.00, 170.09, 255.00)\",\"rgb(0.00, 170.09, 255.00)\",\"rgb(0.00, 170.09, 255.00)\",\"rgb(0.00, 170.09, 255.00)\",\"rgb(0.00, 170.09, 255.00)\",\"rgb(0.00, 170.09, 255.00)\",\"rgb(0.00, 170.09, 255.00)\",\"rgb(0.00, 170.09, 255.00)\",\"rgb(0.00, 170.09, 255.00)\",\"rgb(0.00, 170.09, 255.00)\",\"rgb(0.00, 170.09, 255.00)\",\"rgb(0.00, 170.09, 255.00)\",\"rgb(0.00, 170.09, 255.00)\",\"rgb(0.00, 170.09, 255.00)\",\"rgb(0.00, 170.09, 255.00)\",\"rgb(0.00, 170.09, 255.00)\",\"rgb(0.00, 170.09, 255.00)\",\"rgb(0.00, 170.09, 255.00)\",\"rgb(0.00, 170.09, 255.00)\",\"rgb(0.00, 170.09, 255.00)\",\"rgb(0.00, 170.09, 255.00)\",\"rgb(0.00, 170.09, 255.00)\",\"rgb(0.00, 170.09, 255.00)\",\"rgb(0.00, 170.09, 255.00)\",\"rgb(0.00, 170.09, 255.00)\",\"rgb(0.00, 170.09, 255.00)\",\"rgb(0.00, 170.09, 255.00)\",\"rgb(0.00, 170.09, 255.00)\",\"rgb(0.00, 170.09, 255.00)\",\"rgb(0.00, 170.09, 255.00)\",\"rgb(0.00, 170.09, 255.00)\",\"rgb(0.00, 170.09, 255.00)\",\"rgb(0.00, 170.09, 255.00)\",\"rgb(0.00, 170.09, 255.00)\",\"rgb(0.00, 170.09, 255.00)\",\"rgb(0.00, 170.09, 255.00)\",\"rgb(0.00, 255.00, 255.00)\",\"rgb(0.00, 255.00, 255.00)\",\"rgb(0.00, 255.00, 255.00)\",\"rgb(0.00, 255.00, 255.00)\",\"rgb(0.00, 255.00, 255.00)\",\"rgb(0.00, 255.00, 255.00)\",\"rgb(0.00, 255.00, 255.00)\",\"rgb(0.00, 255.00, 255.00)\",\"rgb(0.00, 255.00, 255.00)\",\"rgb(0.00, 255.00, 255.00)\",\"rgb(0.00, 255.00, 255.00)\",\"rgb(0.00, 255.00, 255.00)\",\"rgb(0.00, 255.00, 255.00)\",\"rgb(0.00, 255.00, 255.00)\",\"rgb(0.00, 255.00, 255.00)\",\"rgb(0.00, 255.00, 255.00)\",\"rgb(0.00, 255.00, 255.00)\",\"rgb(0.00, 255.00, 255.00)\",\"rgb(0.00, 255.00, 255.00)\",\"rgb(0.00, 255.00, 255.00)\",\"rgb(0.00, 255.00, 255.00)\",\"rgb(0.00, 255.00, 255.00)\",\"rgb(0.00, 255.00, 255.00)\",\"rgb(0.00, 255.00, 255.00)\",\"rgb(0.00, 255.00, 255.00)\",\"rgb(0.00, 255.00, 255.00)\",\"rgb(0.00, 255.00, 255.00)\",\"rgb(0.00, 255.00, 255.00)\",\"rgb(0.00, 255.00, 255.00)\",\"rgb(0.00, 255.00, 255.00)\",\"rgb(0.00, 255.00, 255.00)\",\"rgb(0.00, 255.00, 255.00)\",\"rgb(0.00, 255.00, 255.00)\",\"rgb(0.00, 255.00, 255.00)\",\"rgb(0.00, 255.00, 255.00)\",\"rgb(0.00, 255.00, 255.00)\",\"rgb(0.00, 255.00, 255.00)\",\"rgb(0.00, 255.00, 255.00)\",\"rgb(0.00, 255.00, 255.00)\",\"rgb(0.00, 255.00, 255.00)\"],\"width\":4},\"mode\":\"lines\",\"showlegend\":false,\"x\":[40.0,40.0,41.0,41.0,42.0,42.0,43.0,43.0,44.0,44.0,45.0,45.0,46.0,46.0,47.0,47.0,48.0,48.0,49.0,49.0,50.0,50.0,51.0,51.0,52.0,52.0,53.0,53.0,54.0,54.0,55.0,55.0,56.0,56.0,57.0,57.0,58.0,58.0,59.0,59.0,59.0,40.0,40.0,59.0,59.0,40.0,40.0,59.0,59.0,40.0,40.0,59.0,59.0,40.0,40.0,59.0,59.0,40.0,40.0,59.0,59.0,40.0,40.0,59.0,59.0,40.0,40.0,59.0,59.0,40.0,40.0,59.0,59.0,40.0,40.0,59.0,59.0,40.0,40.0,59.0,59.0,59.0,58.0,58.0,57.0,57.0,56.0,56.0,55.0,55.0,54.0,54.0,53.0,53.0,52.0,52.0,51.0,51.0,50.0,50.0,49.0,49.0,48.0,48.0,47.0,47.0,46.0,46.0,45.0,45.0,44.0,44.0,43.0,43.0,42.0,42.0,41.0,41.0,40.0,40.0,40.0,59.0,59.0,40.0,40.0,59.0,59.0,40.0,40.0,59.0,59.0,40.0,40.0,59.0,59.0,40.0,40.0,59.0,59.0,40.0,40.0,59.0,59.0,40.0,40.0,59.0,59.0,40.0,40.0,59.0,59.0,40.0,40.0,59.0,59.0,40.0,40.0,59.0,59.0,40.0],\"y\":[40.0,59.0,59.0,40.0,40.0,59.0,59.0,40.0,40.0,59.0,59.0,40.0,40.0,59.0,59.0,40.0,40.0,59.0,59.0,40.0,40.0,59.0,59.0,40.0,40.0,59.0,59.0,40.0,40.0,59.0,59.0,40.0,40.0,59.0,59.0,40.0,40.0,59.0,59.0,40.0,39.5,39.5,40.5,40.5,41.5,41.5,42.5,42.5,43.5,43.5,44.5,44.5,45.5,45.5,46.5,46.5,47.5,47.5,48.5,48.5,49.5,49.5,50.5,50.5,51.5,51.5,52.5,52.5,53.5,53.5,54.5,54.5,55.5,55.5,56.5,56.5,57.5,57.5,58.5,58.5,58.5,39.5,39.5,58.5,58.5,39.5,39.5,58.5,58.5,39.5,39.5,58.5,58.5,39.5,39.5,58.5,58.5,39.5,39.5,58.5,58.5,39.5,39.5,58.5,58.5,39.5,39.5,58.5,58.5,39.5,39.5,58.5,58.5,39.5,39.5,58.5,58.5,39.5,39.5,58.5,58.5,58.5,57.5,57.5,56.5,56.5,55.5,55.5,54.5,54.5,53.5,53.5,52.5,52.5,51.5,51.5,50.5,50.5,49.5,49.5,48.5,48.5,47.5,47.5,46.5,46.5,45.5,45.5,44.5,44.5,43.5,43.5,42.5,42.5,41.5,41.5,40.5,40.5,39.5,39.5],\"z\":[0.0,0.0,0.0,0.0,0.0,0.0,0.0,0.0,0.0,0.0,0.0,0.0,0.0,0.0,0.0,0.0,0.0,0.0,0.0,0.0,0.0,0.0,0.0,0.0,0.0,0.0,0.0,0.0,0.0,0.0,0.0,0.0,0.0,0.0,0.0,0.0,0.0,0.0,0.0,0.0,1.0,1.0,1.0,1.0,1.0,1.0,1.0,1.0,1.0,1.0,1.0,1.0,1.0,1.0,1.0,1.0,1.0,1.0,1.0,1.0,1.0,1.0,1.0,1.0,1.0,1.0,1.0,1.0,1.0,1.0,1.0,1.0,1.0,1.0,1.0,1.0,1.0,1.0,1.0,1.0,2.0,2.0,2.0,2.0,2.0,2.0,2.0,2.0,2.0,2.0,2.0,2.0,2.0,2.0,2.0,2.0,2.0,2.0,2.0,2.0,2.0,2.0,2.0,2.0,2.0,2.0,2.0,2.0,2.0,2.0,2.0,2.0,2.0,2.0,2.0,2.0,2.0,2.0,2.0,2.0,3.0,3.0,3.0,3.0,3.0,3.0,3.0,3.0,3.0,3.0,3.0,3.0,3.0,3.0,3.0,3.0,3.0,3.0,3.0,3.0,3.0,3.0,3.0,3.0,3.0,3.0,3.0,3.0,3.0,3.0,3.0,3.0,3.0,3.0,3.0,3.0,3.0,3.0,3.0,3.0],\"type\":\"scatter3d\"},{\"marker\":{\"color\":\"red\",\"size\":2},\"mode\":\"markers\",\"showlegend\":false,\"x\":[],\"y\":[],\"z\":[],\"type\":\"scatter3d\"}],                        {\"template\":{\"data\":{\"barpolar\":[{\"marker\":{\"line\":{\"color\":\"rgb(17,17,17)\",\"width\":0.5},\"pattern\":{\"fillmode\":\"overlay\",\"size\":10,\"solidity\":0.2}},\"type\":\"barpolar\"}],\"bar\":[{\"error_x\":{\"color\":\"#f2f5fa\"},\"error_y\":{\"color\":\"#f2f5fa\"},\"marker\":{\"line\":{\"color\":\"rgb(17,17,17)\",\"width\":0.5},\"pattern\":{\"fillmode\":\"overlay\",\"size\":10,\"solidity\":0.2}},\"type\":\"bar\"}],\"carpet\":[{\"aaxis\":{\"endlinecolor\":\"#A2B1C6\",\"gridcolor\":\"#506784\",\"linecolor\":\"#506784\",\"minorgridcolor\":\"#506784\",\"startlinecolor\":\"#A2B1C6\"},\"baxis\":{\"endlinecolor\":\"#A2B1C6\",\"gridcolor\":\"#506784\",\"linecolor\":\"#506784\",\"minorgridcolor\":\"#506784\",\"startlinecolor\":\"#A2B1C6\"},\"type\":\"carpet\"}],\"choropleth\":[{\"colorbar\":{\"outlinewidth\":0,\"ticks\":\"\"},\"type\":\"choropleth\"}],\"contourcarpet\":[{\"colorbar\":{\"outlinewidth\":0,\"ticks\":\"\"},\"type\":\"contourcarpet\"}],\"contour\":[{\"colorbar\":{\"outlinewidth\":0,\"ticks\":\"\"},\"colorscale\":[[0.0,\"#0d0887\"],[0.1111111111111111,\"#46039f\"],[0.2222222222222222,\"#7201a8\"],[0.3333333333333333,\"#9c179e\"],[0.4444444444444444,\"#bd3786\"],[0.5555555555555556,\"#d8576b\"],[0.6666666666666666,\"#ed7953\"],[0.7777777777777778,\"#fb9f3a\"],[0.8888888888888888,\"#fdca26\"],[1.0,\"#f0f921\"]],\"type\":\"contour\"}],\"heatmapgl\":[{\"colorbar\":{\"outlinewidth\":0,\"ticks\":\"\"},\"colorscale\":[[0.0,\"#0d0887\"],[0.1111111111111111,\"#46039f\"],[0.2222222222222222,\"#7201a8\"],[0.3333333333333333,\"#9c179e\"],[0.4444444444444444,\"#bd3786\"],[0.5555555555555556,\"#d8576b\"],[0.6666666666666666,\"#ed7953\"],[0.7777777777777778,\"#fb9f3a\"],[0.8888888888888888,\"#fdca26\"],[1.0,\"#f0f921\"]],\"type\":\"heatmapgl\"}],\"heatmap\":[{\"colorbar\":{\"outlinewidth\":0,\"ticks\":\"\"},\"colorscale\":[[0.0,\"#0d0887\"],[0.1111111111111111,\"#46039f\"],[0.2222222222222222,\"#7201a8\"],[0.3333333333333333,\"#9c179e\"],[0.4444444444444444,\"#bd3786\"],[0.5555555555555556,\"#d8576b\"],[0.6666666666666666,\"#ed7953\"],[0.7777777777777778,\"#fb9f3a\"],[0.8888888888888888,\"#fdca26\"],[1.0,\"#f0f921\"]],\"type\":\"heatmap\"}],\"histogram2dcontour\":[{\"colorbar\":{\"outlinewidth\":0,\"ticks\":\"\"},\"colorscale\":[[0.0,\"#0d0887\"],[0.1111111111111111,\"#46039f\"],[0.2222222222222222,\"#7201a8\"],[0.3333333333333333,\"#9c179e\"],[0.4444444444444444,\"#bd3786\"],[0.5555555555555556,\"#d8576b\"],[0.6666666666666666,\"#ed7953\"],[0.7777777777777778,\"#fb9f3a\"],[0.8888888888888888,\"#fdca26\"],[1.0,\"#f0f921\"]],\"type\":\"histogram2dcontour\"}],\"histogram2d\":[{\"colorbar\":{\"outlinewidth\":0,\"ticks\":\"\"},\"colorscale\":[[0.0,\"#0d0887\"],[0.1111111111111111,\"#46039f\"],[0.2222222222222222,\"#7201a8\"],[0.3333333333333333,\"#9c179e\"],[0.4444444444444444,\"#bd3786\"],[0.5555555555555556,\"#d8576b\"],[0.6666666666666666,\"#ed7953\"],[0.7777777777777778,\"#fb9f3a\"],[0.8888888888888888,\"#fdca26\"],[1.0,\"#f0f921\"]],\"type\":\"histogram2d\"}],\"histogram\":[{\"marker\":{\"pattern\":{\"fillmode\":\"overlay\",\"size\":10,\"solidity\":0.2}},\"type\":\"histogram\"}],\"mesh3d\":[{\"colorbar\":{\"outlinewidth\":0,\"ticks\":\"\"},\"type\":\"mesh3d\"}],\"parcoords\":[{\"line\":{\"colorbar\":{\"outlinewidth\":0,\"ticks\":\"\"}},\"type\":\"parcoords\"}],\"pie\":[{\"automargin\":true,\"type\":\"pie\"}],\"scatter3d\":[{\"line\":{\"colorbar\":{\"outlinewidth\":0,\"ticks\":\"\"}},\"marker\":{\"colorbar\":{\"outlinewidth\":0,\"ticks\":\"\"}},\"type\":\"scatter3d\"}],\"scattercarpet\":[{\"marker\":{\"colorbar\":{\"outlinewidth\":0,\"ticks\":\"\"}},\"type\":\"scattercarpet\"}],\"scattergeo\":[{\"marker\":{\"colorbar\":{\"outlinewidth\":0,\"ticks\":\"\"}},\"type\":\"scattergeo\"}],\"scattergl\":[{\"marker\":{\"line\":{\"color\":\"#283442\"}},\"type\":\"scattergl\"}],\"scattermapbox\":[{\"marker\":{\"colorbar\":{\"outlinewidth\":0,\"ticks\":\"\"}},\"type\":\"scattermapbox\"}],\"scatterpolargl\":[{\"marker\":{\"colorbar\":{\"outlinewidth\":0,\"ticks\":\"\"}},\"type\":\"scatterpolargl\"}],\"scatterpolar\":[{\"marker\":{\"colorbar\":{\"outlinewidth\":0,\"ticks\":\"\"}},\"type\":\"scatterpolar\"}],\"scatter\":[{\"marker\":{\"line\":{\"color\":\"#283442\"}},\"type\":\"scatter\"}],\"scatterternary\":[{\"marker\":{\"colorbar\":{\"outlinewidth\":0,\"ticks\":\"\"}},\"type\":\"scatterternary\"}],\"surface\":[{\"colorbar\":{\"outlinewidth\":0,\"ticks\":\"\"},\"colorscale\":[[0.0,\"#0d0887\"],[0.1111111111111111,\"#46039f\"],[0.2222222222222222,\"#7201a8\"],[0.3333333333333333,\"#9c179e\"],[0.4444444444444444,\"#bd3786\"],[0.5555555555555556,\"#d8576b\"],[0.6666666666666666,\"#ed7953\"],[0.7777777777777778,\"#fb9f3a\"],[0.8888888888888888,\"#fdca26\"],[1.0,\"#f0f921\"]],\"type\":\"surface\"}],\"table\":[{\"cells\":{\"fill\":{\"color\":\"#506784\"},\"line\":{\"color\":\"rgb(17,17,17)\"}},\"header\":{\"fill\":{\"color\":\"#2a3f5f\"},\"line\":{\"color\":\"rgb(17,17,17)\"}},\"type\":\"table\"}]},\"layout\":{\"annotationdefaults\":{\"arrowcolor\":\"#f2f5fa\",\"arrowhead\":0,\"arrowwidth\":1},\"autotypenumbers\":\"strict\",\"coloraxis\":{\"colorbar\":{\"outlinewidth\":0,\"ticks\":\"\"}},\"colorscale\":{\"diverging\":[[0,\"#8e0152\"],[0.1,\"#c51b7d\"],[0.2,\"#de77ae\"],[0.3,\"#f1b6da\"],[0.4,\"#fde0ef\"],[0.5,\"#f7f7f7\"],[0.6,\"#e6f5d0\"],[0.7,\"#b8e186\"],[0.8,\"#7fbc41\"],[0.9,\"#4d9221\"],[1,\"#276419\"]],\"sequential\":[[0.0,\"#0d0887\"],[0.1111111111111111,\"#46039f\"],[0.2222222222222222,\"#7201a8\"],[0.3333333333333333,\"#9c179e\"],[0.4444444444444444,\"#bd3786\"],[0.5555555555555556,\"#d8576b\"],[0.6666666666666666,\"#ed7953\"],[0.7777777777777778,\"#fb9f3a\"],[0.8888888888888888,\"#fdca26\"],[1.0,\"#f0f921\"]],\"sequentialminus\":[[0.0,\"#0d0887\"],[0.1111111111111111,\"#46039f\"],[0.2222222222222222,\"#7201a8\"],[0.3333333333333333,\"#9c179e\"],[0.4444444444444444,\"#bd3786\"],[0.5555555555555556,\"#d8576b\"],[0.6666666666666666,\"#ed7953\"],[0.7777777777777778,\"#fb9f3a\"],[0.8888888888888888,\"#fdca26\"],[1.0,\"#f0f921\"]]},\"colorway\":[\"#636efa\",\"#EF553B\",\"#00cc96\",\"#ab63fa\",\"#FFA15A\",\"#19d3f3\",\"#FF6692\",\"#B6E880\",\"#FF97FF\",\"#FECB52\"],\"font\":{\"color\":\"#f2f5fa\"},\"geo\":{\"bgcolor\":\"rgb(17,17,17)\",\"lakecolor\":\"rgb(17,17,17)\",\"landcolor\":\"rgb(17,17,17)\",\"showlakes\":true,\"showland\":true,\"subunitcolor\":\"#506784\"},\"hoverlabel\":{\"align\":\"left\"},\"hovermode\":\"closest\",\"mapbox\":{\"style\":\"dark\"},\"paper_bgcolor\":\"rgb(17,17,17)\",\"plot_bgcolor\":\"rgb(17,17,17)\",\"polar\":{\"angularaxis\":{\"gridcolor\":\"#506784\",\"linecolor\":\"#506784\",\"ticks\":\"\"},\"bgcolor\":\"rgb(17,17,17)\",\"radialaxis\":{\"gridcolor\":\"#506784\",\"linecolor\":\"#506784\",\"ticks\":\"\"}},\"scene\":{\"xaxis\":{\"backgroundcolor\":\"rgb(17,17,17)\",\"gridcolor\":\"#506784\",\"gridwidth\":2,\"linecolor\":\"#506784\",\"showbackground\":true,\"ticks\":\"\",\"zerolinecolor\":\"#C8D4E3\"},\"yaxis\":{\"backgroundcolor\":\"rgb(17,17,17)\",\"gridcolor\":\"#506784\",\"gridwidth\":2,\"linecolor\":\"#506784\",\"showbackground\":true,\"ticks\":\"\",\"zerolinecolor\":\"#C8D4E3\"},\"zaxis\":{\"backgroundcolor\":\"rgb(17,17,17)\",\"gridcolor\":\"#506784\",\"gridwidth\":2,\"linecolor\":\"#506784\",\"showbackground\":true,\"ticks\":\"\",\"zerolinecolor\":\"#C8D4E3\"}},\"shapedefaults\":{\"line\":{\"color\":\"#f2f5fa\"}},\"sliderdefaults\":{\"bgcolor\":\"#C8D4E3\",\"bordercolor\":\"rgb(17,17,17)\",\"borderwidth\":1,\"tickwidth\":0},\"ternary\":{\"aaxis\":{\"gridcolor\":\"#506784\",\"linecolor\":\"#506784\",\"ticks\":\"\"},\"baxis\":{\"gridcolor\":\"#506784\",\"linecolor\":\"#506784\",\"ticks\":\"\"},\"bgcolor\":\"rgb(17,17,17)\",\"caxis\":{\"gridcolor\":\"#506784\",\"linecolor\":\"#506784\",\"ticks\":\"\"}},\"title\":{\"x\":0.05},\"updatemenudefaults\":{\"bgcolor\":\"#506784\",\"borderwidth\":0},\"xaxis\":{\"automargin\":true,\"gridcolor\":\"#283442\",\"linecolor\":\"#506784\",\"ticks\":\"\",\"title\":{\"standoff\":15},\"zerolinecolor\":\"#283442\",\"zerolinewidth\":2},\"yaxis\":{\"automargin\":true,\"gridcolor\":\"#283442\",\"linecolor\":\"#506784\",\"ticks\":\"\",\"title\":{\"standoff\":15},\"zerolinecolor\":\"#283442\",\"zerolinewidth\":2}}},\"scene\":{\"xaxis\":{\"backgroundcolor\":\"black\",\"nticks\":10,\"range\":[39.749,59.251]},\"yaxis\":{\"backgroundcolor\":\"black\",\"nticks\":10,\"range\":[39.499,59.001]},\"zaxis\":{\"backgroundcolor\":\"black\",\"nticks\":10,\"range\":[0,19.502]},\"camera\":{\"eye\":{\"x\":-0.7142857142857143,\"y\":-1.4285714285714286,\"z\":0.2142857142857143},\"center\":{\"x\":0,\"y\":0,\"z\":-0.4230848118141729}},\"aspectmode\":\"cube\"},\"margin\":{\"l\":10,\"r\":10,\"b\":10,\"t\":10,\"pad\":4},\"paper_bgcolor\":\"black\",\"width\":800,\"height\":500},                        {\"responsive\": true}                    ).then(function(){\n",
              "                            \n",
              "var gd = document.getElementById('f037f902-a862-4e4b-8ca8-c26dd8de35a6');\n",
              "var x = new MutationObserver(function (mutations, observer) {{\n",
              "        var display = window.getComputedStyle(gd).display;\n",
              "        if (!display || display === 'none') {{\n",
              "            console.log([gd, 'removed!']);\n",
              "            Plotly.purge(gd);\n",
              "            observer.disconnect();\n",
              "        }}\n",
              "}});\n",
              "\n",
              "// Listen for the removal of the full notebook cells\n",
              "var notebookContainer = gd.closest('#notebook-container');\n",
              "if (notebookContainer) {{\n",
              "    x.observe(notebookContainer, {childList: true});\n",
              "}}\n",
              "\n",
              "// Listen for the clearing of the current output cell\n",
              "var outputEl = gd.closest('.output');\n",
              "if (outputEl) {{\n",
              "    x.observe(outputEl, {childList: true});\n",
              "}}\n",
              "\n",
              "                        })                };                            </script>        </div>\n",
              "</body>\n",
              "</html>"
            ]
          },
          "metadata": {}
        }
      ]
    },
    {
      "cell_type": "code",
      "execution_count": 10,
      "metadata": {
        "id": "kLPh7aTwQKrF"
      },
      "outputs": [],
      "source": [
        "# generate the design (make sure you've run the above cells before running this cell)\n",
        "\n",
        "steps = []\n",
        "for layer in range(layers):\n",
        "  steps.append(fc.Point(x=50, y=50, z=initial_z+layer*EH))\n",
        "  steps.append(fc.Point(x=100, y=50, z=initial_z+layer*EH))\n",
        "  steps.append(fc.Point(x=100, y=100, z=initial_z+layer*EH))\n",
        "  steps.append(fc.Point(x=50, y=100, z=initial_z+layer*EH))\n",
        "  steps.append(fc.Point(x=50, y=50, z=initial_z+layer*EH))\n",
        "\n",
        "# instead of the above for-loop code, you can create the exact same design using built-in FullControl functions (uncomment the next two lines):\n",
        "# rectangle_steps = fc.rectangleXY(fc.Point(x=50, y=50, z=initial_z), 50, 50)\n",
        "# steps = fc.move(rectangle_steps, fc.Vector(z=EH), copy=True, copy_quantity=layers)"
      ]
    },
    {
      "cell_type": "code",
      "execution_count": 11,
      "metadata": {
        "id": "ZVdfnpt5RSUi",
        "colab": {
          "base_uri": "https://localhost:8080/",
          "height": 517
        },
        "outputId": "51649c3d-4947-407d-8ddb-071eaf29c4d2"
      },
      "outputs": [
        {
          "output_type": "display_data",
          "data": {
            "text/html": [
              "<html>\n",
              "<head><meta charset=\"utf-8\" /></head>\n",
              "<body>\n",
              "    <div>            <script src=\"https://cdnjs.cloudflare.com/ajax/libs/mathjax/2.7.5/MathJax.js?config=TeX-AMS-MML_SVG\"></script><script type=\"text/javascript\">if (window.MathJax && window.MathJax.Hub && window.MathJax.Hub.Config) {window.MathJax.Hub.Config({SVG: {font: \"STIX-Web\"}});}</script>                <script type=\"text/javascript\">window.PlotlyConfig = {MathJaxConfig: 'local'};</script>\n",
              "        <script charset=\"utf-8\" src=\"https://cdn.plot.ly/plotly-2.35.2.min.js\"></script>                <div id=\"fa711da5-4e32-4e80-80e0-74c5ad37d42e\" class=\"plotly-graph-div\" style=\"height:500px; width:800px;\"></div>            <script type=\"text/javascript\">                                    window.PLOTLYENV=window.PLOTLYENV || {};                                    if (document.getElementById(\"fa711da5-4e32-4e80-80e0-74c5ad37d42e\")) {                    Plotly.newPlot(                        \"fa711da5-4e32-4e80-80e0-74c5ad37d42e\",                        [{\"line\":{\"color\":[\"rgb(0.00, 0.00, 255.00)\",\"rgb(0.00, 0.00, 255.00)\",\"rgb(0.00, 0.00, 255.00)\",\"rgb(0.00, 0.00, 255.00)\",\"rgb(0.00, 0.00, 255.00)\",\"rgb(0.00, 5.10, 255.00)\",\"rgb(0.00, 5.10, 255.00)\",\"rgb(0.00, 5.10, 255.00)\",\"rgb(0.00, 5.10, 255.00)\",\"rgb(0.00, 5.10, 255.00)\",\"rgb(0.00, 10.46, 255.00)\",\"rgb(0.00, 10.46, 255.00)\",\"rgb(0.00, 10.46, 255.00)\",\"rgb(0.00, 10.46, 255.00)\",\"rgb(0.00, 10.46, 255.00)\",\"rgb(0.00, 15.55, 255.00)\",\"rgb(0.00, 15.55, 255.00)\",\"rgb(0.00, 15.55, 255.00)\",\"rgb(0.00, 15.55, 255.00)\",\"rgb(0.00, 15.55, 255.00)\",\"rgb(0.00, 20.91, 255.00)\",\"rgb(0.00, 20.91, 255.00)\",\"rgb(0.00, 20.91, 255.00)\",\"rgb(0.00, 20.91, 255.00)\",\"rgb(0.00, 20.91, 255.00)\",\"rgb(0.00, 26.01, 255.00)\",\"rgb(0.00, 26.01, 255.00)\",\"rgb(0.00, 26.01, 255.00)\",\"rgb(0.00, 26.01, 255.00)\",\"rgb(0.00, 26.01, 255.00)\",\"rgb(0.00, 31.11, 255.00)\",\"rgb(0.00, 31.11, 255.00)\",\"rgb(0.00, 31.11, 255.00)\",\"rgb(0.00, 31.11, 255.00)\",\"rgb(0.00, 31.11, 255.00)\",\"rgb(0.00, 36.46, 255.00)\",\"rgb(0.00, 36.46, 255.00)\",\"rgb(0.00, 36.46, 255.00)\",\"rgb(0.00, 36.46, 255.00)\",\"rgb(0.00, 36.46, 255.00)\",\"rgb(0.00, 41.57, 255.00)\",\"rgb(0.00, 41.57, 255.00)\",\"rgb(0.00, 41.57, 255.00)\",\"rgb(0.00, 41.57, 255.00)\",\"rgb(0.00, 41.57, 255.00)\",\"rgb(0.00, 46.92, 255.00)\",\"rgb(0.00, 46.92, 255.00)\",\"rgb(0.00, 46.92, 255.00)\",\"rgb(0.00, 46.92, 255.00)\",\"rgb(0.00, 46.92, 255.00)\",\"rgb(0.00, 52.02, 255.00)\",\"rgb(0.00, 52.02, 255.00)\",\"rgb(0.00, 52.02, 255.00)\",\"rgb(0.00, 52.02, 255.00)\",\"rgb(0.00, 52.02, 255.00)\",\"rgb(0.00, 57.12, 255.00)\",\"rgb(0.00, 57.12, 255.00)\",\"rgb(0.00, 57.12, 255.00)\",\"rgb(0.00, 57.12, 255.00)\",\"rgb(0.00, 57.12, 255.00)\",\"rgb(0.00, 62.48, 255.00)\",\"rgb(0.00, 62.48, 255.00)\",\"rgb(0.00, 62.48, 255.00)\",\"rgb(0.00, 62.48, 255.00)\",\"rgb(0.00, 62.48, 255.00)\",\"rgb(0.00, 67.58, 255.00)\",\"rgb(0.00, 67.58, 255.00)\",\"rgb(0.00, 67.58, 255.00)\",\"rgb(0.00, 67.58, 255.00)\",\"rgb(0.00, 67.58, 255.00)\",\"rgb(0.00, 72.93, 255.00)\",\"rgb(0.00, 72.93, 255.00)\",\"rgb(0.00, 72.93, 255.00)\",\"rgb(0.00, 72.93, 255.00)\",\"rgb(0.00, 72.93, 255.00)\",\"rgb(0.00, 78.03, 255.00)\",\"rgb(0.00, 78.03, 255.00)\",\"rgb(0.00, 78.03, 255.00)\",\"rgb(0.00, 78.03, 255.00)\",\"rgb(0.00, 78.03, 255.00)\",\"rgb(0.00, 83.39, 255.00)\",\"rgb(0.00, 83.39, 255.00)\",\"rgb(0.00, 83.39, 255.00)\",\"rgb(0.00, 83.39, 255.00)\",\"rgb(0.00, 83.39, 255.00)\",\"rgb(0.00, 88.48, 255.00)\",\"rgb(0.00, 88.48, 255.00)\",\"rgb(0.00, 88.48, 255.00)\",\"rgb(0.00, 88.48, 255.00)\",\"rgb(0.00, 88.48, 255.00)\",\"rgb(0.00, 93.58, 255.00)\",\"rgb(0.00, 93.58, 255.00)\",\"rgb(0.00, 93.58, 255.00)\",\"rgb(0.00, 93.58, 255.00)\",\"rgb(0.00, 93.58, 255.00)\",\"rgb(0.00, 98.94, 255.00)\",\"rgb(0.00, 98.94, 255.00)\",\"rgb(0.00, 98.94, 255.00)\",\"rgb(0.00, 98.94, 255.00)\",\"rgb(0.00, 98.94, 255.00)\",\"rgb(0.00, 104.04, 255.00)\",\"rgb(0.00, 104.04, 255.00)\",\"rgb(0.00, 104.04, 255.00)\",\"rgb(0.00, 104.04, 255.00)\",\"rgb(0.00, 104.04, 255.00)\",\"rgb(0.00, 109.39, 255.00)\",\"rgb(0.00, 109.39, 255.00)\",\"rgb(0.00, 109.39, 255.00)\",\"rgb(0.00, 109.39, 255.00)\",\"rgb(0.00, 109.39, 255.00)\",\"rgb(0.00, 114.50, 255.00)\",\"rgb(0.00, 114.50, 255.00)\",\"rgb(0.00, 114.50, 255.00)\",\"rgb(0.00, 114.50, 255.00)\",\"rgb(0.00, 114.50, 255.00)\",\"rgb(0.00, 119.59, 255.00)\",\"rgb(0.00, 119.59, 255.00)\",\"rgb(0.00, 119.59, 255.00)\",\"rgb(0.00, 119.59, 255.00)\",\"rgb(0.00, 119.59, 255.00)\",\"rgb(0.00, 124.95, 255.00)\",\"rgb(0.00, 124.95, 255.00)\",\"rgb(0.00, 124.95, 255.00)\",\"rgb(0.00, 124.95, 255.00)\",\"rgb(0.00, 124.95, 255.00)\",\"rgb(0.00, 130.05, 255.00)\",\"rgb(0.00, 130.05, 255.00)\",\"rgb(0.00, 130.05, 255.00)\",\"rgb(0.00, 130.05, 255.00)\",\"rgb(0.00, 130.05, 255.00)\",\"rgb(0.00, 135.41, 255.00)\",\"rgb(0.00, 135.41, 255.00)\",\"rgb(0.00, 135.41, 255.00)\",\"rgb(0.00, 135.41, 255.00)\",\"rgb(0.00, 135.41, 255.00)\",\"rgb(0.00, 140.51, 255.00)\",\"rgb(0.00, 140.51, 255.00)\",\"rgb(0.00, 140.51, 255.00)\",\"rgb(0.00, 140.51, 255.00)\",\"rgb(0.00, 140.51, 255.00)\",\"rgb(0.00, 145.60, 255.00)\",\"rgb(0.00, 145.60, 255.00)\",\"rgb(0.00, 145.60, 255.00)\",\"rgb(0.00, 145.60, 255.00)\",\"rgb(0.00, 145.60, 255.00)\",\"rgb(0.00, 150.96, 255.00)\",\"rgb(0.00, 150.96, 255.00)\",\"rgb(0.00, 150.96, 255.00)\",\"rgb(0.00, 150.96, 255.00)\",\"rgb(0.00, 150.96, 255.00)\",\"rgb(0.00, 156.06, 255.00)\",\"rgb(0.00, 156.06, 255.00)\",\"rgb(0.00, 156.06, 255.00)\",\"rgb(0.00, 156.06, 255.00)\",\"rgb(0.00, 156.06, 255.00)\",\"rgb(0.00, 161.41, 255.00)\",\"rgb(0.00, 161.41, 255.00)\",\"rgb(0.00, 161.41, 255.00)\",\"rgb(0.00, 161.41, 255.00)\",\"rgb(0.00, 161.41, 255.00)\",\"rgb(0.00, 166.52, 255.00)\",\"rgb(0.00, 166.52, 255.00)\",\"rgb(0.00, 166.52, 255.00)\",\"rgb(0.00, 166.52, 255.00)\",\"rgb(0.00, 166.52, 255.00)\",\"rgb(0.00, 171.62, 255.00)\",\"rgb(0.00, 171.62, 255.00)\",\"rgb(0.00, 171.62, 255.00)\",\"rgb(0.00, 171.62, 255.00)\",\"rgb(0.00, 171.62, 255.00)\",\"rgb(0.00, 176.97, 255.00)\",\"rgb(0.00, 176.97, 255.00)\",\"rgb(0.00, 176.97, 255.00)\",\"rgb(0.00, 176.97, 255.00)\",\"rgb(0.00, 176.97, 255.00)\",\"rgb(0.00, 182.07, 255.00)\",\"rgb(0.00, 182.07, 255.00)\",\"rgb(0.00, 182.07, 255.00)\",\"rgb(0.00, 182.07, 255.00)\",\"rgb(0.00, 182.07, 255.00)\",\"rgb(0.00, 187.42, 255.00)\",\"rgb(0.00, 187.42, 255.00)\",\"rgb(0.00, 187.42, 255.00)\",\"rgb(0.00, 187.42, 255.00)\",\"rgb(0.00, 187.42, 255.00)\",\"rgb(0.00, 192.53, 255.00)\",\"rgb(0.00, 192.53, 255.00)\",\"rgb(0.00, 192.53, 255.00)\",\"rgb(0.00, 192.53, 255.00)\",\"rgb(0.00, 192.53, 255.00)\",\"rgb(0.00, 197.88, 255.00)\",\"rgb(0.00, 197.88, 255.00)\",\"rgb(0.00, 197.88, 255.00)\",\"rgb(0.00, 197.88, 255.00)\",\"rgb(0.00, 197.88, 255.00)\",\"rgb(0.00, 202.98, 255.00)\",\"rgb(0.00, 202.98, 255.00)\",\"rgb(0.00, 202.98, 255.00)\",\"rgb(0.00, 202.98, 255.00)\",\"rgb(0.00, 202.98, 255.00)\",\"rgb(0.00, 208.08, 255.00)\",\"rgb(0.00, 208.08, 255.00)\",\"rgb(0.00, 208.08, 255.00)\",\"rgb(0.00, 208.08, 255.00)\",\"rgb(0.00, 208.08, 255.00)\",\"rgb(0.00, 213.44, 255.00)\",\"rgb(0.00, 213.44, 255.00)\",\"rgb(0.00, 213.44, 255.00)\",\"rgb(0.00, 213.44, 255.00)\",\"rgb(0.00, 213.44, 255.00)\",\"rgb(0.00, 218.53, 255.00)\",\"rgb(0.00, 218.53, 255.00)\",\"rgb(0.00, 218.53, 255.00)\",\"rgb(0.00, 218.53, 255.00)\",\"rgb(0.00, 218.53, 255.00)\",\"rgb(0.00, 223.89, 255.00)\",\"rgb(0.00, 223.89, 255.00)\",\"rgb(0.00, 223.89, 255.00)\",\"rgb(0.00, 223.89, 255.00)\",\"rgb(0.00, 223.89, 255.00)\",\"rgb(0.00, 228.99, 255.00)\",\"rgb(0.00, 228.99, 255.00)\",\"rgb(0.00, 228.99, 255.00)\",\"rgb(0.00, 228.99, 255.00)\",\"rgb(0.00, 228.99, 255.00)\",\"rgb(0.00, 234.09, 255.00)\",\"rgb(0.00, 234.09, 255.00)\",\"rgb(0.00, 234.09, 255.00)\",\"rgb(0.00, 234.09, 255.00)\",\"rgb(0.00, 234.09, 255.00)\",\"rgb(0.00, 239.44, 255.00)\",\"rgb(0.00, 239.44, 255.00)\",\"rgb(0.00, 239.44, 255.00)\",\"rgb(0.00, 239.44, 255.00)\",\"rgb(0.00, 239.44, 255.00)\",\"rgb(0.00, 244.54, 255.00)\",\"rgb(0.00, 244.54, 255.00)\",\"rgb(0.00, 244.54, 255.00)\",\"rgb(0.00, 244.54, 255.00)\",\"rgb(0.00, 244.54, 255.00)\",\"rgb(0.00, 249.90, 255.00)\",\"rgb(0.00, 249.90, 255.00)\",\"rgb(0.00, 249.90, 255.00)\",\"rgb(0.00, 249.90, 255.00)\",\"rgb(0.00, 249.90, 255.00)\",\"rgb(0.00, 255.00, 255.00)\",\"rgb(0.00, 255.00, 255.00)\",\"rgb(0.00, 255.00, 255.00)\",\"rgb(0.00, 255.00, 255.00)\",\"rgb(0.00, 255.00, 255.00)\"],\"width\":4},\"mode\":\"lines\",\"showlegend\":false,\"x\":[50.0,100.0,100.0,50.0,50.0,50.0,100.0,100.0,50.0,50.0,50.0,100.0,100.0,50.0,50.0,50.0,100.0,100.0,50.0,50.0,50.0,100.0,100.0,50.0,50.0,50.0,100.0,100.0,50.0,50.0,50.0,100.0,100.0,50.0,50.0,50.0,100.0,100.0,50.0,50.0,50.0,100.0,100.0,50.0,50.0,50.0,100.0,100.0,50.0,50.0,50.0,100.0,100.0,50.0,50.0,50.0,100.0,100.0,50.0,50.0,50.0,100.0,100.0,50.0,50.0,50.0,100.0,100.0,50.0,50.0,50.0,100.0,100.0,50.0,50.0,50.0,100.0,100.0,50.0,50.0,50.0,100.0,100.0,50.0,50.0,50.0,100.0,100.0,50.0,50.0,50.0,100.0,100.0,50.0,50.0,50.0,100.0,100.0,50.0,50.0,50.0,100.0,100.0,50.0,50.0,50.0,100.0,100.0,50.0,50.0,50.0,100.0,100.0,50.0,50.0,50.0,100.0,100.0,50.0,50.0,50.0,100.0,100.0,50.0,50.0,50.0,100.0,100.0,50.0,50.0,50.0,100.0,100.0,50.0,50.0,50.0,100.0,100.0,50.0,50.0,50.0,100.0,100.0,50.0,50.0,50.0,100.0,100.0,50.0,50.0,50.0,100.0,100.0,50.0,50.0,50.0,100.0,100.0,50.0,50.0,50.0,100.0,100.0,50.0,50.0,50.0,100.0,100.0,50.0,50.0,50.0,100.0,100.0,50.0,50.0,50.0,100.0,100.0,50.0,50.0,50.0,100.0,100.0,50.0,50.0,50.0,100.0,100.0,50.0,50.0,50.0,100.0,100.0,50.0,50.0,50.0,100.0,100.0,50.0,50.0,50.0,100.0,100.0,50.0,50.0,50.0,100.0,100.0,50.0,50.0,50.0,100.0,100.0,50.0,50.0,50.0,100.0,100.0,50.0,50.0,50.0,100.0,100.0,50.0,50.0,50.0,100.0,100.0,50.0,50.0,50.0,100.0,100.0,50.0,50.0,50.0,100.0,100.0,50.0,50.0,50.0,100.0,100.0,50.0,50.0,50.0,100.0,100.0,50.0,50.0],\"y\":[50.0,50.0,100.0,100.0,50.0,50.0,50.0,100.0,100.0,50.0,50.0,50.0,100.0,100.0,50.0,50.0,50.0,100.0,100.0,50.0,50.0,50.0,100.0,100.0,50.0,50.0,50.0,100.0,100.0,50.0,50.0,50.0,100.0,100.0,50.0,50.0,50.0,100.0,100.0,50.0,50.0,50.0,100.0,100.0,50.0,50.0,50.0,100.0,100.0,50.0,50.0,50.0,100.0,100.0,50.0,50.0,50.0,100.0,100.0,50.0,50.0,50.0,100.0,100.0,50.0,50.0,50.0,100.0,100.0,50.0,50.0,50.0,100.0,100.0,50.0,50.0,50.0,100.0,100.0,50.0,50.0,50.0,100.0,100.0,50.0,50.0,50.0,100.0,100.0,50.0,50.0,50.0,100.0,100.0,50.0,50.0,50.0,100.0,100.0,50.0,50.0,50.0,100.0,100.0,50.0,50.0,50.0,100.0,100.0,50.0,50.0,50.0,100.0,100.0,50.0,50.0,50.0,100.0,100.0,50.0,50.0,50.0,100.0,100.0,50.0,50.0,50.0,100.0,100.0,50.0,50.0,50.0,100.0,100.0,50.0,50.0,50.0,100.0,100.0,50.0,50.0,50.0,100.0,100.0,50.0,50.0,50.0,100.0,100.0,50.0,50.0,50.0,100.0,100.0,50.0,50.0,50.0,100.0,100.0,50.0,50.0,50.0,100.0,100.0,50.0,50.0,50.0,100.0,100.0,50.0,50.0,50.0,100.0,100.0,50.0,50.0,50.0,100.0,100.0,50.0,50.0,50.0,100.0,100.0,50.0,50.0,50.0,100.0,100.0,50.0,50.0,50.0,100.0,100.0,50.0,50.0,50.0,100.0,100.0,50.0,50.0,50.0,100.0,100.0,50.0,50.0,50.0,100.0,100.0,50.0,50.0,50.0,100.0,100.0,50.0,50.0,50.0,100.0,100.0,50.0,50.0,50.0,100.0,100.0,50.0,50.0,50.0,100.0,100.0,50.0,50.0,50.0,100.0,100.0,50.0,50.0,50.0,100.0,100.0,50.0,50.0,50.0,100.0,100.0,50.0,50.0,50.0,100.0,100.0,50.0],\"z\":[0.18,0.18,0.18,0.18,0.18,0.48,0.48,0.48,0.48,0.48,0.78,0.78,0.78,0.78,0.78,1.08,1.08,1.08,1.08,1.08,1.38,1.38,1.38,1.38,1.38,1.68,1.68,1.68,1.68,1.68,1.98,1.98,1.98,1.98,1.98,2.28,2.28,2.28,2.28,2.28,2.58,2.58,2.58,2.58,2.58,2.88,2.88,2.88,2.88,2.88,3.18,3.18,3.18,3.18,3.18,3.48,3.48,3.48,3.48,3.48,3.78,3.78,3.78,3.78,3.78,4.08,4.08,4.08,4.08,4.08,4.38,4.38,4.38,4.38,4.38,4.68,4.68,4.68,4.68,4.68,4.98,4.98,4.98,4.98,4.98,5.28,5.28,5.28,5.28,5.28,5.58,5.58,5.58,5.58,5.58,5.88,5.88,5.88,5.88,5.88,6.18,6.18,6.18,6.18,6.18,6.48,6.48,6.48,6.48,6.48,6.78,6.78,6.78,6.78,6.78,7.08,7.08,7.08,7.08,7.08,7.38,7.38,7.38,7.38,7.38,7.68,7.68,7.68,7.68,7.68,7.98,7.98,7.98,7.98,7.98,8.28,8.28,8.28,8.28,8.28,8.58,8.58,8.58,8.58,8.58,8.88,8.88,8.88,8.88,8.88,9.18,9.18,9.18,9.18,9.18,9.48,9.48,9.48,9.48,9.48,9.78,9.78,9.78,9.78,9.78,10.08,10.08,10.08,10.08,10.08,10.38,10.38,10.38,10.38,10.38,10.68,10.68,10.68,10.68,10.68,10.98,10.98,10.98,10.98,10.98,11.28,11.28,11.28,11.28,11.28,11.58,11.58,11.58,11.58,11.58,11.88,11.88,11.88,11.88,11.88,12.18,12.18,12.18,12.18,12.18,12.48,12.48,12.48,12.48,12.48,12.78,12.78,12.78,12.78,12.78,13.08,13.08,13.08,13.08,13.08,13.38,13.38,13.38,13.38,13.38,13.68,13.68,13.68,13.68,13.68,13.98,13.98,13.98,13.98,13.98,14.28,14.28,14.28,14.28,14.28,14.58,14.58,14.58,14.58,14.58,14.88,14.88,14.88,14.88,14.88],\"type\":\"scatter3d\"},{\"marker\":{\"color\":\"red\",\"size\":2},\"mode\":\"markers\",\"showlegend\":false,\"x\":[],\"y\":[],\"z\":[],\"type\":\"scatter3d\"}],                        {\"template\":{\"data\":{\"barpolar\":[{\"marker\":{\"line\":{\"color\":\"rgb(17,17,17)\",\"width\":0.5},\"pattern\":{\"fillmode\":\"overlay\",\"size\":10,\"solidity\":0.2}},\"type\":\"barpolar\"}],\"bar\":[{\"error_x\":{\"color\":\"#f2f5fa\"},\"error_y\":{\"color\":\"#f2f5fa\"},\"marker\":{\"line\":{\"color\":\"rgb(17,17,17)\",\"width\":0.5},\"pattern\":{\"fillmode\":\"overlay\",\"size\":10,\"solidity\":0.2}},\"type\":\"bar\"}],\"carpet\":[{\"aaxis\":{\"endlinecolor\":\"#A2B1C6\",\"gridcolor\":\"#506784\",\"linecolor\":\"#506784\",\"minorgridcolor\":\"#506784\",\"startlinecolor\":\"#A2B1C6\"},\"baxis\":{\"endlinecolor\":\"#A2B1C6\",\"gridcolor\":\"#506784\",\"linecolor\":\"#506784\",\"minorgridcolor\":\"#506784\",\"startlinecolor\":\"#A2B1C6\"},\"type\":\"carpet\"}],\"choropleth\":[{\"colorbar\":{\"outlinewidth\":0,\"ticks\":\"\"},\"type\":\"choropleth\"}],\"contourcarpet\":[{\"colorbar\":{\"outlinewidth\":0,\"ticks\":\"\"},\"type\":\"contourcarpet\"}],\"contour\":[{\"colorbar\":{\"outlinewidth\":0,\"ticks\":\"\"},\"colorscale\":[[0.0,\"#0d0887\"],[0.1111111111111111,\"#46039f\"],[0.2222222222222222,\"#7201a8\"],[0.3333333333333333,\"#9c179e\"],[0.4444444444444444,\"#bd3786\"],[0.5555555555555556,\"#d8576b\"],[0.6666666666666666,\"#ed7953\"],[0.7777777777777778,\"#fb9f3a\"],[0.8888888888888888,\"#fdca26\"],[1.0,\"#f0f921\"]],\"type\":\"contour\"}],\"heatmapgl\":[{\"colorbar\":{\"outlinewidth\":0,\"ticks\":\"\"},\"colorscale\":[[0.0,\"#0d0887\"],[0.1111111111111111,\"#46039f\"],[0.2222222222222222,\"#7201a8\"],[0.3333333333333333,\"#9c179e\"],[0.4444444444444444,\"#bd3786\"],[0.5555555555555556,\"#d8576b\"],[0.6666666666666666,\"#ed7953\"],[0.7777777777777778,\"#fb9f3a\"],[0.8888888888888888,\"#fdca26\"],[1.0,\"#f0f921\"]],\"type\":\"heatmapgl\"}],\"heatmap\":[{\"colorbar\":{\"outlinewidth\":0,\"ticks\":\"\"},\"colorscale\":[[0.0,\"#0d0887\"],[0.1111111111111111,\"#46039f\"],[0.2222222222222222,\"#7201a8\"],[0.3333333333333333,\"#9c179e\"],[0.4444444444444444,\"#bd3786\"],[0.5555555555555556,\"#d8576b\"],[0.6666666666666666,\"#ed7953\"],[0.7777777777777778,\"#fb9f3a\"],[0.8888888888888888,\"#fdca26\"],[1.0,\"#f0f921\"]],\"type\":\"heatmap\"}],\"histogram2dcontour\":[{\"colorbar\":{\"outlinewidth\":0,\"ticks\":\"\"},\"colorscale\":[[0.0,\"#0d0887\"],[0.1111111111111111,\"#46039f\"],[0.2222222222222222,\"#7201a8\"],[0.3333333333333333,\"#9c179e\"],[0.4444444444444444,\"#bd3786\"],[0.5555555555555556,\"#d8576b\"],[0.6666666666666666,\"#ed7953\"],[0.7777777777777778,\"#fb9f3a\"],[0.8888888888888888,\"#fdca26\"],[1.0,\"#f0f921\"]],\"type\":\"histogram2dcontour\"}],\"histogram2d\":[{\"colorbar\":{\"outlinewidth\":0,\"ticks\":\"\"},\"colorscale\":[[0.0,\"#0d0887\"],[0.1111111111111111,\"#46039f\"],[0.2222222222222222,\"#7201a8\"],[0.3333333333333333,\"#9c179e\"],[0.4444444444444444,\"#bd3786\"],[0.5555555555555556,\"#d8576b\"],[0.6666666666666666,\"#ed7953\"],[0.7777777777777778,\"#fb9f3a\"],[0.8888888888888888,\"#fdca26\"],[1.0,\"#f0f921\"]],\"type\":\"histogram2d\"}],\"histogram\":[{\"marker\":{\"pattern\":{\"fillmode\":\"overlay\",\"size\":10,\"solidity\":0.2}},\"type\":\"histogram\"}],\"mesh3d\":[{\"colorbar\":{\"outlinewidth\":0,\"ticks\":\"\"},\"type\":\"mesh3d\"}],\"parcoords\":[{\"line\":{\"colorbar\":{\"outlinewidth\":0,\"ticks\":\"\"}},\"type\":\"parcoords\"}],\"pie\":[{\"automargin\":true,\"type\":\"pie\"}],\"scatter3d\":[{\"line\":{\"colorbar\":{\"outlinewidth\":0,\"ticks\":\"\"}},\"marker\":{\"colorbar\":{\"outlinewidth\":0,\"ticks\":\"\"}},\"type\":\"scatter3d\"}],\"scattercarpet\":[{\"marker\":{\"colorbar\":{\"outlinewidth\":0,\"ticks\":\"\"}},\"type\":\"scattercarpet\"}],\"scattergeo\":[{\"marker\":{\"colorbar\":{\"outlinewidth\":0,\"ticks\":\"\"}},\"type\":\"scattergeo\"}],\"scattergl\":[{\"marker\":{\"line\":{\"color\":\"#283442\"}},\"type\":\"scattergl\"}],\"scattermapbox\":[{\"marker\":{\"colorbar\":{\"outlinewidth\":0,\"ticks\":\"\"}},\"type\":\"scattermapbox\"}],\"scatterpolargl\":[{\"marker\":{\"colorbar\":{\"outlinewidth\":0,\"ticks\":\"\"}},\"type\":\"scatterpolargl\"}],\"scatterpolar\":[{\"marker\":{\"colorbar\":{\"outlinewidth\":0,\"ticks\":\"\"}},\"type\":\"scatterpolar\"}],\"scatter\":[{\"marker\":{\"line\":{\"color\":\"#283442\"}},\"type\":\"scatter\"}],\"scatterternary\":[{\"marker\":{\"colorbar\":{\"outlinewidth\":0,\"ticks\":\"\"}},\"type\":\"scatterternary\"}],\"surface\":[{\"colorbar\":{\"outlinewidth\":0,\"ticks\":\"\"},\"colorscale\":[[0.0,\"#0d0887\"],[0.1111111111111111,\"#46039f\"],[0.2222222222222222,\"#7201a8\"],[0.3333333333333333,\"#9c179e\"],[0.4444444444444444,\"#bd3786\"],[0.5555555555555556,\"#d8576b\"],[0.6666666666666666,\"#ed7953\"],[0.7777777777777778,\"#fb9f3a\"],[0.8888888888888888,\"#fdca26\"],[1.0,\"#f0f921\"]],\"type\":\"surface\"}],\"table\":[{\"cells\":{\"fill\":{\"color\":\"#506784\"},\"line\":{\"color\":\"rgb(17,17,17)\"}},\"header\":{\"fill\":{\"color\":\"#2a3f5f\"},\"line\":{\"color\":\"rgb(17,17,17)\"}},\"type\":\"table\"}]},\"layout\":{\"annotationdefaults\":{\"arrowcolor\":\"#f2f5fa\",\"arrowhead\":0,\"arrowwidth\":1},\"autotypenumbers\":\"strict\",\"coloraxis\":{\"colorbar\":{\"outlinewidth\":0,\"ticks\":\"\"}},\"colorscale\":{\"diverging\":[[0,\"#8e0152\"],[0.1,\"#c51b7d\"],[0.2,\"#de77ae\"],[0.3,\"#f1b6da\"],[0.4,\"#fde0ef\"],[0.5,\"#f7f7f7\"],[0.6,\"#e6f5d0\"],[0.7,\"#b8e186\"],[0.8,\"#7fbc41\"],[0.9,\"#4d9221\"],[1,\"#276419\"]],\"sequential\":[[0.0,\"#0d0887\"],[0.1111111111111111,\"#46039f\"],[0.2222222222222222,\"#7201a8\"],[0.3333333333333333,\"#9c179e\"],[0.4444444444444444,\"#bd3786\"],[0.5555555555555556,\"#d8576b\"],[0.6666666666666666,\"#ed7953\"],[0.7777777777777778,\"#fb9f3a\"],[0.8888888888888888,\"#fdca26\"],[1.0,\"#f0f921\"]],\"sequentialminus\":[[0.0,\"#0d0887\"],[0.1111111111111111,\"#46039f\"],[0.2222222222222222,\"#7201a8\"],[0.3333333333333333,\"#9c179e\"],[0.4444444444444444,\"#bd3786\"],[0.5555555555555556,\"#d8576b\"],[0.6666666666666666,\"#ed7953\"],[0.7777777777777778,\"#fb9f3a\"],[0.8888888888888888,\"#fdca26\"],[1.0,\"#f0f921\"]]},\"colorway\":[\"#636efa\",\"#EF553B\",\"#00cc96\",\"#ab63fa\",\"#FFA15A\",\"#19d3f3\",\"#FF6692\",\"#B6E880\",\"#FF97FF\",\"#FECB52\"],\"font\":{\"color\":\"#f2f5fa\"},\"geo\":{\"bgcolor\":\"rgb(17,17,17)\",\"lakecolor\":\"rgb(17,17,17)\",\"landcolor\":\"rgb(17,17,17)\",\"showlakes\":true,\"showland\":true,\"subunitcolor\":\"#506784\"},\"hoverlabel\":{\"align\":\"left\"},\"hovermode\":\"closest\",\"mapbox\":{\"style\":\"dark\"},\"paper_bgcolor\":\"rgb(17,17,17)\",\"plot_bgcolor\":\"rgb(17,17,17)\",\"polar\":{\"angularaxis\":{\"gridcolor\":\"#506784\",\"linecolor\":\"#506784\",\"ticks\":\"\"},\"bgcolor\":\"rgb(17,17,17)\",\"radialaxis\":{\"gridcolor\":\"#506784\",\"linecolor\":\"#506784\",\"ticks\":\"\"}},\"scene\":{\"xaxis\":{\"backgroundcolor\":\"rgb(17,17,17)\",\"gridcolor\":\"#506784\",\"gridwidth\":2,\"linecolor\":\"#506784\",\"showbackground\":true,\"ticks\":\"\",\"zerolinecolor\":\"#C8D4E3\"},\"yaxis\":{\"backgroundcolor\":\"rgb(17,17,17)\",\"gridcolor\":\"#506784\",\"gridwidth\":2,\"linecolor\":\"#506784\",\"showbackground\":true,\"ticks\":\"\",\"zerolinecolor\":\"#C8D4E3\"},\"zaxis\":{\"backgroundcolor\":\"rgb(17,17,17)\",\"gridcolor\":\"#506784\",\"gridwidth\":2,\"linecolor\":\"#506784\",\"showbackground\":true,\"ticks\":\"\",\"zerolinecolor\":\"#C8D4E3\"}},\"shapedefaults\":{\"line\":{\"color\":\"#f2f5fa\"}},\"sliderdefaults\":{\"bgcolor\":\"#C8D4E3\",\"bordercolor\":\"rgb(17,17,17)\",\"borderwidth\":1,\"tickwidth\":0},\"ternary\":{\"aaxis\":{\"gridcolor\":\"#506784\",\"linecolor\":\"#506784\",\"ticks\":\"\"},\"baxis\":{\"gridcolor\":\"#506784\",\"linecolor\":\"#506784\",\"ticks\":\"\"},\"bgcolor\":\"rgb(17,17,17)\",\"caxis\":{\"gridcolor\":\"#506784\",\"linecolor\":\"#506784\",\"ticks\":\"\"}},\"title\":{\"x\":0.05},\"updatemenudefaults\":{\"bgcolor\":\"#506784\",\"borderwidth\":0},\"xaxis\":{\"automargin\":true,\"gridcolor\":\"#283442\",\"linecolor\":\"#506784\",\"ticks\":\"\",\"title\":{\"standoff\":15},\"zerolinecolor\":\"#283442\",\"zerolinewidth\":2},\"yaxis\":{\"automargin\":true,\"gridcolor\":\"#283442\",\"linecolor\":\"#506784\",\"ticks\":\"\",\"title\":{\"standoff\":15},\"zerolinecolor\":\"#283442\",\"zerolinewidth\":2}}},\"scene\":{\"xaxis\":{\"backgroundcolor\":\"black\",\"nticks\":10,\"range\":[49.998999999999995,100.001]},\"yaxis\":{\"backgroundcolor\":\"black\",\"nticks\":10,\"range\":[49.998999999999995,100.001]},\"zaxis\":{\"backgroundcolor\":\"black\",\"nticks\":10,\"range\":[0,50.002]},\"camera\":{\"eye\":{\"x\":-0.7142857142857143,\"y\":-1.4285714285714286,\"z\":0.2142857142857143},\"center\":{\"x\":0,\"y\":0,\"z\":-0.35300587976480946}},\"aspectmode\":\"cube\"},\"margin\":{\"l\":10,\"r\":10,\"b\":10,\"t\":10,\"pad\":4},\"paper_bgcolor\":\"black\",\"width\":800,\"height\":500},                        {\"responsive\": true}                    ).then(function(){\n",
              "                            \n",
              "var gd = document.getElementById('fa711da5-4e32-4e80-80e0-74c5ad37d42e');\n",
              "var x = new MutationObserver(function (mutations, observer) {{\n",
              "        var display = window.getComputedStyle(gd).display;\n",
              "        if (!display || display === 'none') {{\n",
              "            console.log([gd, 'removed!']);\n",
              "            Plotly.purge(gd);\n",
              "            observer.disconnect();\n",
              "        }}\n",
              "}});\n",
              "\n",
              "// Listen for the removal of the full notebook cells\n",
              "var notebookContainer = gd.closest('#notebook-container');\n",
              "if (notebookContainer) {{\n",
              "    x.observe(notebookContainer, {childList: true});\n",
              "}}\n",
              "\n",
              "// Listen for the clearing of the current output cell\n",
              "var outputEl = gd.closest('.output');\n",
              "if (outputEl) {{\n",
              "    x.observe(outputEl, {childList: true});\n",
              "}}\n",
              "\n",
              "                        })                };                            </script>        </div>\n",
              "</body>\n",
              "</html>"
            ]
          },
          "metadata": {}
        }
      ],
      "source": [
        "# preview the design\n",
        "\n",
        "fc.transform(steps, 'plot', fc.PlotControls(style='line', zoom=0.7))\n",
        "# hover the cursor over the lines in the plot to check xyz positions of the points in the design\n",
        "\n",
        "# uncomment the next line to create a plot with real heights/widths for extruded lines to preview the real 3D printed geometry\n",
        "# fc.transform(steps, 'plot', fc.PlotControls(style='tube', zoom=0.7, initialization_data={'extrusion_width': EW, 'extrusion_height': EH}))\n",
        "\n",
        "# uncomment the next line to create a neat preview (click the top-left button in the plot for a .png file) - post and tag @FullControlXYZ :)\n",
        "# fc.transform(steps, 'plot', fc.PlotControls(neat_for_publishing=True, zoom=0.5, initialization_data={'extrusion_width': EW, 'extrusion_height': EH}))\n"
      ]
    },
    {
      "cell_type": "code",
      "execution_count": 12,
      "metadata": {
        "colab": {
          "base_uri": "https://localhost:8080/",
          "height": 17
        },
        "id": "tggFoUeJReQR",
        "outputId": "a7953556-3f14-4451-aa26-a8ac0525d717"
      },
      "outputs": [
        {
          "output_type": "display_data",
          "data": {
            "text/plain": [
              "<IPython.core.display.Javascript object>"
            ],
            "application/javascript": [
              "\n",
              "    async function download(id, filename, size) {\n",
              "      if (!google.colab.kernel.accessAllowed) {\n",
              "        return;\n",
              "      }\n",
              "      const div = document.createElement('div');\n",
              "      const label = document.createElement('label');\n",
              "      label.textContent = `Downloading \"${filename}\": `;\n",
              "      div.appendChild(label);\n",
              "      const progress = document.createElement('progress');\n",
              "      progress.max = size;\n",
              "      div.appendChild(progress);\n",
              "      document.body.appendChild(div);\n",
              "\n",
              "      const buffers = [];\n",
              "      let downloaded = 0;\n",
              "\n",
              "      const channel = await google.colab.kernel.comms.open(id);\n",
              "      // Send a message to notify the kernel that we're ready.\n",
              "      channel.send({})\n",
              "\n",
              "      for await (const message of channel.messages) {\n",
              "        // Send a message to notify the kernel that we're ready.\n",
              "        channel.send({})\n",
              "        if (message.buffers) {\n",
              "          for (const buffer of message.buffers) {\n",
              "            buffers.push(buffer);\n",
              "            downloaded += buffer.byteLength;\n",
              "            progress.value = downloaded;\n",
              "          }\n",
              "        }\n",
              "      }\n",
              "      const blob = new Blob(buffers, {type: 'application/binary'});\n",
              "      const a = document.createElement('a');\n",
              "      a.href = window.URL.createObjectURL(blob);\n",
              "      a.download = filename;\n",
              "      div.appendChild(a);\n",
              "      a.click();\n",
              "      div.remove();\n",
              "    }\n",
              "  "
            ]
          },
          "metadata": {}
        },
        {
          "output_type": "display_data",
          "data": {
            "text/plain": [
              "<IPython.core.display.Javascript object>"
            ],
            "application/javascript": [
              "download(\"download_759fb107-8b48-462b-951c-594ffe303594\", \"my_design.gcode\", 5450)"
            ]
          },
          "metadata": {}
        }
      ],
      "source": [
        "# generate and save gcode\n",
        "\n",
        "gcode_controls = fc.GcodeControls(\n",
        "    printer_name=printer_name,\n",
        "\n",
        "    initialization_data={\n",
        "        'primer': 'front_lines_then_y',\n",
        "        'print_speed': print_speed,\n",
        "        'nozzle_temp': nozzle_temp,\n",
        "        'bed_temp': bed_temp,\n",
        "        'fan_percent': fan_percent,\n",
        "        'extrusion_width': EW,\n",
        "        'extrusion_height': EH})\n",
        "gcode = fc.transform(steps, 'gcode', gcode_controls)\n",
        "open(f'{design_name}.gcode', 'w').write(gcode)\n",
        "files.download(f'{design_name}.gcode')"
      ]
    },
    {
      "cell_type": "markdown",
      "metadata": {
        "id": "PcrbPO3C-2hF"
      },
      "source": [
        "#### please tell us what you're doing with FullControl!\n",
        "\n",
        "- tag FullControlXYZ on social media ([twitter](https://twitter.com/FullControlXYZ), [instagram](https://www.instagram.com/fullcontrolxyz/), [linkedin](https://www.linkedin.com/in/andrew-gleadall-068587119/), [tiktok](https://www.tiktok.com/@fullcontrolxyz))\n",
        "- email [info@fullcontrol.xyz](mailto:info@fullcontrol.xyz)\n",
        "- post on the [subreddit](https://reddit.com/r/fullcontrol)\n",
        "- post in the [github discussions or issues tabs](https://github.com/FullControlXYZ/fullcontrol/issues)\n",
        "\n",
        "in publications, please cite the original FullControl paper and the github repo for the new python version:\n",
        "\n",
        "- Gleadall, A. (2021). FullControl GCode Designer: open-source software for unconstrained design in additive manufacturing. Additive Manufacturing, 46, 102109.\n",
        "- Gleadall, A. and Leas, D. (2023). FullControl [electronic resource: python source code]. available at: https://github.com/FullControlXYZ/fullcontrol"
      ]
    }
  ],
  "metadata": {
    "colab": {
      "provenance": [],
      "include_colab_link": true
    },
    "kernelspec": {
      "display_name": "Python 3",
      "name": "python3"
    },
    "language_info": {
      "codemirror_mode": {
        "name": "ipython",
        "version": 3
      },
      "file_extension": ".py",
      "mimetype": "text/x-python",
      "name": "python",
      "nbconvert_exporter": "python",
      "pygments_lexer": "ipython3",
      "version": "3.11.3"
    }
  },
  "nbformat": 4,
  "nbformat_minor": 0
}